{
  "nbformat": 4,
  "nbformat_minor": 0,
  "metadata": {
    "colab": {
      "name": "VGGNet16.ipynb",
      "provenance": [],
      "collapsed_sections": [],
      "authorship_tag": "ABX9TyPByAQlqcDNmnxv20tXCTZb"
    },
    "kernelspec": {
      "name": "python3",
      "display_name": "Python 3"
    },
    "language_info": {
      "name": "python"
    },
    "accelerator": "GPU"
  },
  "cells": [
    {
      "cell_type": "code",
      "metadata": {
        "id": "XPZdjQaXR1Of"
      },
      "source": [
        "import tensorflow as tf\n",
        "import matplotlib.pyplot as plt\n",
        "from tensorflow.keras.datasets import cifar10\n",
        "from tensorflow.keras.models import Sequential, Model \n",
        "from tensorflow.keras.layers import Dense, Dropout, Flatten, Input, Conv2D, MaxPool2D, BatchNormalization , Activation, ReLU\n",
        "from tensorflow.keras.optimizers import Adam\n",
        "from tensorflow.keras.utils import to_categorical\n",
        "from tensorflow.keras import datasets, layers, models, losses\n",
        "import cv2\n",
        "import numpy as np "
      ],
      "execution_count": 1,
      "outputs": []
    },
    {
      "cell_type": "code",
      "metadata": {
        "id": "qbfrIteNR4sd",
        "colab": {
          "base_uri": "https://localhost:8080/"
        },
        "outputId": "a7f93383-8450-4899-9e1a-069dfda6ff5c"
      },
      "source": [
        "(x_train, y_train), (x_test, y_test) = cifar10.load_data()"
      ],
      "execution_count": 2,
      "outputs": [
        {
          "output_type": "stream",
          "text": [
            "Downloading data from https://www.cs.toronto.edu/~kriz/cifar-10-python.tar.gz\n",
            "170500096/170498071 [==============================] - 3s 0us/step\n",
            "170508288/170498071 [==============================] - 3s 0us/step\n"
          ],
          "name": "stdout"
        }
      ]
    },
    {
      "cell_type": "code",
      "metadata": {
        "id": "5HMqGwXmR7vE"
      },
      "source": [
        "x_train = x_train.astype('float32') / 255.0 \n",
        "x_test = x_test.astype('float32') / 255.0 "
      ],
      "execution_count": 3,
      "outputs": []
    },
    {
      "cell_type": "code",
      "metadata": {
        "id": "WREfb0s3SZIT"
      },
      "source": [
        "y_train = to_categorical(y_train, 10)\n",
        "y_test = to_categorical(y_test, 10)"
      ],
      "execution_count": 4,
      "outputs": []
    },
    {
      "cell_type": "code",
      "metadata": {
        "colab": {
          "base_uri": "https://localhost:8080/"
        },
        "id": "VoI_1xGYTgv7",
        "outputId": "cfadfde5-b2ed-4b9d-8b01-a96263aee322"
      },
      "source": [
        "y_train.shape, x_train.shape"
      ],
      "execution_count": 5,
      "outputs": [
        {
          "output_type": "execute_result",
          "data": {
            "text/plain": [
              "((50000, 10), (50000, 32, 32, 3))"
            ]
          },
          "metadata": {},
          "execution_count": 5
        }
      ]
    },
    {
      "cell_type": "code",
      "metadata": {
        "colab": {
          "base_uri": "https://localhost:8080/"
        },
        "id": "I6IQHP7FTkb7",
        "outputId": "356fabe8-8391-49c5-9e8c-153f97f3500d"
      },
      "source": [
        "x_test.shape, y_test.shape"
      ],
      "execution_count": 6,
      "outputs": [
        {
          "output_type": "execute_result",
          "data": {
            "text/plain": [
              "((10000, 32, 32, 3), (10000, 10))"
            ]
          },
          "metadata": {},
          "execution_count": 6
        }
      ]
    },
    {
      "cell_type": "code",
      "metadata": {
        "id": "pYC26rdOR-xz"
      },
      "source": [
        "model = Sequential()\n",
        "# model.add(layers.experimental.preprocessing.Resizing(224, 224, interpolation=\"bilinear\", input_shape=x_train.shape[1:]))\n",
        "model.add(Conv2D(64, 3, strides= 1, padding='same', input_shape=x_train.shape[1:]))\n",
        "model.add(BatchNormalization())\n",
        "model.add(Activation(activation='relu'))\n",
        "model.add(Conv2D(64, 3, strides= 1, padding='same'))\n",
        "model.add(BatchNormalization())\n",
        "model.add(Activation(activation='relu'))\n",
        "model.add(MaxPool2D((2,2), strides=2))\n",
        "\n",
        "model.add(Conv2D(128, 3, strides=1, padding='same'))\n",
        "model.add(BatchNormalization())\n",
        "model.add(Activation(activation='relu'))\n",
        "model.add(Conv2D(128, 3, strides=1, padding='same'))\n",
        "model.add(BatchNormalization())\n",
        "model.add(Activation(activation='relu'))\n",
        "model.add(MaxPool2D((2, 2), strides=2))\n",
        "\n",
        "model.add(Conv2D(256, 3, strides=1, padding='same'))\n",
        "model.add(BatchNormalization())\n",
        "model.add(Activation(activation='relu'))\n",
        "model.add(Conv2D(256, 3, strides=1, padding='same'))\n",
        "model.add(BatchNormalization())\n",
        "model.add(Activation(activation='relu'))\n",
        "model.add(Conv2D(256, 3, strides=1, padding='same'))\n",
        "model.add(BatchNormalization())\n",
        "model.add(Activation(activation='relu'))\n",
        "model.add(MaxPool2D((2, 2), strides=2))\n",
        "\n",
        "model.add(Conv2D(512, 3, strides=1, padding='same'))\n",
        "model.add(BatchNormalization())\n",
        "model.add(Activation(activation='relu'))\n",
        "model.add(Conv2D(512, 3, strides=1, padding='same'))\n",
        "model.add(BatchNormalization())\n",
        "model.add(Activation(activation='relu'))\n",
        "model.add(Conv2D(512, 3, strides=1, padding='same'))\n",
        "model.add(BatchNormalization())\n",
        "model.add(Activation(activation='relu'))\n",
        "model.add(MaxPool2D((2, 2), strides=2))\n",
        "model.add(MaxPool2D((2, 2), strides=2))\n",
        "\n",
        "model.add(Flatten())\n",
        "model.add(Dense(4096, activation='relu'))\n",
        "model.add(Dropout(0.5))\n",
        "model.add(Dense(4096, activation='relu'))\n",
        "model.add(Dropout(0.5))\n",
        "model.add(Dense(10, activation='softmax'))"
      ],
      "execution_count": 10,
      "outputs": []
    },
    {
      "cell_type": "code",
      "metadata": {
        "colab": {
          "base_uri": "https://localhost:8080/"
        },
        "id": "Il9EztMfSBzT",
        "outputId": "e8af6786-7960-4a2a-f847-cb7e079731f7"
      },
      "source": [
        "model.summary()"
      ],
      "execution_count": 11,
      "outputs": [
        {
          "output_type": "stream",
          "text": [
            "Model: \"sequential_3\"\n",
            "_________________________________________________________________\n",
            "Layer (type)                 Output Shape              Param #   \n",
            "=================================================================\n",
            "conv2d_4 (Conv2D)            (None, 32, 32, 64)        1792      \n",
            "_________________________________________________________________\n",
            "batch_normalization_4 (Batch (None, 32, 32, 64)        256       \n",
            "_________________________________________________________________\n",
            "activation_4 (Activation)    (None, 32, 32, 64)        0         \n",
            "_________________________________________________________________\n",
            "conv2d_5 (Conv2D)            (None, 32, 32, 64)        36928     \n",
            "_________________________________________________________________\n",
            "batch_normalization_5 (Batch (None, 32, 32, 64)        256       \n",
            "_________________________________________________________________\n",
            "activation_5 (Activation)    (None, 32, 32, 64)        0         \n",
            "_________________________________________________________________\n",
            "max_pooling2d (MaxPooling2D) (None, 16, 16, 64)        0         \n",
            "_________________________________________________________________\n",
            "conv2d_6 (Conv2D)            (None, 16, 16, 128)       73856     \n",
            "_________________________________________________________________\n",
            "batch_normalization_6 (Batch (None, 16, 16, 128)       512       \n",
            "_________________________________________________________________\n",
            "activation_6 (Activation)    (None, 16, 16, 128)       0         \n",
            "_________________________________________________________________\n",
            "conv2d_7 (Conv2D)            (None, 16, 16, 128)       147584    \n",
            "_________________________________________________________________\n",
            "batch_normalization_7 (Batch (None, 16, 16, 128)       512       \n",
            "_________________________________________________________________\n",
            "activation_7 (Activation)    (None, 16, 16, 128)       0         \n",
            "_________________________________________________________________\n",
            "max_pooling2d_1 (MaxPooling2 (None, 8, 8, 128)         0         \n",
            "_________________________________________________________________\n",
            "conv2d_8 (Conv2D)            (None, 8, 8, 256)         295168    \n",
            "_________________________________________________________________\n",
            "batch_normalization_8 (Batch (None, 8, 8, 256)         1024      \n",
            "_________________________________________________________________\n",
            "activation_8 (Activation)    (None, 8, 8, 256)         0         \n",
            "_________________________________________________________________\n",
            "conv2d_9 (Conv2D)            (None, 8, 8, 256)         590080    \n",
            "_________________________________________________________________\n",
            "batch_normalization_9 (Batch (None, 8, 8, 256)         1024      \n",
            "_________________________________________________________________\n",
            "activation_9 (Activation)    (None, 8, 8, 256)         0         \n",
            "_________________________________________________________________\n",
            "conv2d_10 (Conv2D)           (None, 8, 8, 256)         590080    \n",
            "_________________________________________________________________\n",
            "batch_normalization_10 (Batc (None, 8, 8, 256)         1024      \n",
            "_________________________________________________________________\n",
            "activation_10 (Activation)   (None, 8, 8, 256)         0         \n",
            "_________________________________________________________________\n",
            "max_pooling2d_2 (MaxPooling2 (None, 4, 4, 256)         0         \n",
            "_________________________________________________________________\n",
            "conv2d_11 (Conv2D)           (None, 4, 4, 512)         1180160   \n",
            "_________________________________________________________________\n",
            "batch_normalization_11 (Batc (None, 4, 4, 512)         2048      \n",
            "_________________________________________________________________\n",
            "activation_11 (Activation)   (None, 4, 4, 512)         0         \n",
            "_________________________________________________________________\n",
            "conv2d_12 (Conv2D)           (None, 4, 4, 512)         2359808   \n",
            "_________________________________________________________________\n",
            "batch_normalization_12 (Batc (None, 4, 4, 512)         2048      \n",
            "_________________________________________________________________\n",
            "activation_12 (Activation)   (None, 4, 4, 512)         0         \n",
            "_________________________________________________________________\n",
            "conv2d_13 (Conv2D)           (None, 4, 4, 512)         2359808   \n",
            "_________________________________________________________________\n",
            "batch_normalization_13 (Batc (None, 4, 4, 512)         2048      \n",
            "_________________________________________________________________\n",
            "activation_13 (Activation)   (None, 4, 4, 512)         0         \n",
            "_________________________________________________________________\n",
            "max_pooling2d_3 (MaxPooling2 (None, 2, 2, 512)         0         \n",
            "_________________________________________________________________\n",
            "max_pooling2d_4 (MaxPooling2 (None, 1, 1, 512)         0         \n",
            "_________________________________________________________________\n",
            "flatten (Flatten)            (None, 512)               0         \n",
            "_________________________________________________________________\n",
            "dense (Dense)                (None, 4096)              2101248   \n",
            "_________________________________________________________________\n",
            "dropout (Dropout)            (None, 4096)              0         \n",
            "_________________________________________________________________\n",
            "dense_1 (Dense)              (None, 4096)              16781312  \n",
            "_________________________________________________________________\n",
            "dropout_1 (Dropout)          (None, 4096)              0         \n",
            "_________________________________________________________________\n",
            "dense_2 (Dense)              (None, 10)                40970     \n",
            "=================================================================\n",
            "Total params: 26,569,546\n",
            "Trainable params: 26,564,170\n",
            "Non-trainable params: 5,376\n",
            "_________________________________________________________________\n"
          ],
          "name": "stdout"
        }
      ]
    },
    {
      "cell_type": "code",
      "metadata": {
        "colab": {
          "base_uri": "https://localhost:8080/"
        },
        "id": "_0xgXr12SSn8",
        "outputId": "3eb605d7-a1d7-4d74-b14d-6c0e8cf98295"
      },
      "source": [
        "model.compile(optimizer='adam', \n",
        "              loss=losses.categorical_crossentropy, \n",
        "              metrics=['accuracy'])\n",
        "\n",
        "history = model.fit(x_train, y_train, \n",
        "                    batch_size=128, \n",
        "                    epochs=50, \n",
        "                    verbose=1, \n",
        "                    validation_data=(x_test, y_test))"
      ],
      "execution_count": 12,
      "outputs": [
        {
          "output_type": "stream",
          "text": [
            "Epoch 1/50\n",
            "391/391 [==============================] - 58s 63ms/step - loss: 2.1135 - accuracy: 0.1955 - val_loss: 3.6786 - val_accuracy: 0.1315\n",
            "Epoch 2/50\n",
            "391/391 [==============================] - 23s 59ms/step - loss: 1.4972 - accuracy: 0.4174 - val_loss: 1.5311 - val_accuracy: 0.4501\n",
            "Epoch 3/50\n",
            "391/391 [==============================] - 23s 58ms/step - loss: 1.1445 - accuracy: 0.5954 - val_loss: 1.4737 - val_accuracy: 0.5003\n",
            "Epoch 4/50\n",
            "391/391 [==============================] - 23s 58ms/step - loss: 0.8979 - accuracy: 0.6959 - val_loss: 0.9763 - val_accuracy: 0.6657\n",
            "Epoch 5/50\n",
            "391/391 [==============================] - 23s 59ms/step - loss: 0.7513 - accuracy: 0.7505 - val_loss: 0.8476 - val_accuracy: 0.7129\n",
            "Epoch 6/50\n",
            "391/391 [==============================] - 23s 59ms/step - loss: 0.6343 - accuracy: 0.7951 - val_loss: 0.8384 - val_accuracy: 0.7248\n",
            "Epoch 7/50\n",
            "391/391 [==============================] - 23s 59ms/step - loss: 0.5499 - accuracy: 0.8227 - val_loss: 0.6776 - val_accuracy: 0.7801\n",
            "Epoch 8/50\n",
            "391/391 [==============================] - 23s 59ms/step - loss: 0.4699 - accuracy: 0.8496 - val_loss: 0.7392 - val_accuracy: 0.7679\n",
            "Epoch 9/50\n",
            "391/391 [==============================] - 23s 59ms/step - loss: 0.4159 - accuracy: 0.8658 - val_loss: 0.7295 - val_accuracy: 0.7802\n",
            "Epoch 10/50\n",
            "391/391 [==============================] - 23s 59ms/step - loss: 0.3580 - accuracy: 0.8862 - val_loss: 0.9675 - val_accuracy: 0.7166\n",
            "Epoch 11/50\n",
            "391/391 [==============================] - 23s 59ms/step - loss: 0.3087 - accuracy: 0.9024 - val_loss: 0.7944 - val_accuracy: 0.7609\n",
            "Epoch 12/50\n",
            "391/391 [==============================] - 23s 59ms/step - loss: 0.2709 - accuracy: 0.9159 - val_loss: 0.6318 - val_accuracy: 0.8107\n",
            "Epoch 13/50\n",
            "391/391 [==============================] - 23s 59ms/step - loss: 0.2404 - accuracy: 0.9253 - val_loss: 1.0024 - val_accuracy: 0.7339\n",
            "Epoch 14/50\n",
            "391/391 [==============================] - 23s 59ms/step - loss: 0.2122 - accuracy: 0.9333 - val_loss: 0.7785 - val_accuracy: 0.8069\n",
            "Epoch 15/50\n",
            "391/391 [==============================] - 23s 59ms/step - loss: 0.1805 - accuracy: 0.9445 - val_loss: 1.3136 - val_accuracy: 0.7238\n",
            "Epoch 16/50\n",
            "391/391 [==============================] - 23s 59ms/step - loss: 0.1550 - accuracy: 0.9505 - val_loss: 1.0538 - val_accuracy: 0.7637\n",
            "Epoch 17/50\n",
            "391/391 [==============================] - 23s 59ms/step - loss: 0.1526 - accuracy: 0.9542 - val_loss: 0.6448 - val_accuracy: 0.8279\n",
            "Epoch 18/50\n",
            "391/391 [==============================] - 23s 59ms/step - loss: 0.1238 - accuracy: 0.9620 - val_loss: 0.6973 - val_accuracy: 0.8284\n",
            "Epoch 19/50\n",
            "391/391 [==============================] - 23s 59ms/step - loss: 0.1034 - accuracy: 0.9677 - val_loss: 0.9012 - val_accuracy: 0.8100\n",
            "Epoch 20/50\n",
            "391/391 [==============================] - 23s 59ms/step - loss: 0.0955 - accuracy: 0.9721 - val_loss: 0.9247 - val_accuracy: 0.7913\n",
            "Epoch 21/50\n",
            "391/391 [==============================] - 23s 59ms/step - loss: 0.0923 - accuracy: 0.9726 - val_loss: 1.1652 - val_accuracy: 0.7932\n",
            "Epoch 22/50\n",
            "391/391 [==============================] - 23s 59ms/step - loss: 0.0911 - accuracy: 0.9718 - val_loss: 0.9002 - val_accuracy: 0.8257\n",
            "Epoch 23/50\n",
            "391/391 [==============================] - 23s 58ms/step - loss: 0.0682 - accuracy: 0.9796 - val_loss: 0.7046 - val_accuracy: 0.8339\n",
            "Epoch 24/50\n",
            "391/391 [==============================] - 23s 59ms/step - loss: 0.0675 - accuracy: 0.9797 - val_loss: 0.9230 - val_accuracy: 0.7934\n",
            "Epoch 25/50\n",
            "391/391 [==============================] - 23s 59ms/step - loss: 0.0881 - accuracy: 0.9736 - val_loss: 0.6971 - val_accuracy: 0.8333\n",
            "Epoch 26/50\n",
            "391/391 [==============================] - 23s 58ms/step - loss: 0.0646 - accuracy: 0.9806 - val_loss: 0.7436 - val_accuracy: 0.8474\n",
            "Epoch 27/50\n",
            "391/391 [==============================] - 23s 59ms/step - loss: 0.0514 - accuracy: 0.9846 - val_loss: 0.7831 - val_accuracy: 0.8358\n",
            "Epoch 28/50\n",
            "391/391 [==============================] - 23s 58ms/step - loss: 0.0508 - accuracy: 0.9849 - val_loss: 0.9996 - val_accuracy: 0.8171\n",
            "Epoch 29/50\n",
            "391/391 [==============================] - 23s 59ms/step - loss: 0.0476 - accuracy: 0.9861 - val_loss: 0.9413 - val_accuracy: 0.8325\n",
            "Epoch 30/50\n",
            "391/391 [==============================] - 23s 58ms/step - loss: 0.1398 - accuracy: 0.9627 - val_loss: 25.2666 - val_accuracy: 0.3851\n",
            "Epoch 31/50\n",
            "391/391 [==============================] - 23s 58ms/step - loss: 0.0877 - accuracy: 0.9744 - val_loss: 0.8039 - val_accuracy: 0.8298\n",
            "Epoch 32/50\n",
            "391/391 [==============================] - 23s 59ms/step - loss: 0.0311 - accuracy: 0.9899 - val_loss: 0.8702 - val_accuracy: 0.8450\n",
            "Epoch 33/50\n",
            "391/391 [==============================] - 23s 58ms/step - loss: 0.0384 - accuracy: 0.9881 - val_loss: 0.8989 - val_accuracy: 0.8378\n",
            "Epoch 34/50\n",
            "391/391 [==============================] - 23s 58ms/step - loss: 0.0315 - accuracy: 0.9906 - val_loss: 1.0251 - val_accuracy: 0.8403\n",
            "Epoch 35/50\n",
            "391/391 [==============================] - 23s 59ms/step - loss: 0.0347 - accuracy: 0.9896 - val_loss: 0.8351 - val_accuracy: 0.8485\n",
            "Epoch 36/50\n",
            "391/391 [==============================] - 23s 59ms/step - loss: 0.0358 - accuracy: 0.9889 - val_loss: 0.9364 - val_accuracy: 0.8432\n",
            "Epoch 37/50\n",
            "391/391 [==============================] - 23s 59ms/step - loss: 0.0352 - accuracy: 0.9892 - val_loss: 1.0463 - val_accuracy: 0.8295\n",
            "Epoch 38/50\n",
            "391/391 [==============================] - 23s 59ms/step - loss: 0.0439 - accuracy: 0.9870 - val_loss: 0.8088 - val_accuracy: 0.8430\n",
            "Epoch 39/50\n",
            "391/391 [==============================] - 23s 58ms/step - loss: 0.0372 - accuracy: 0.9892 - val_loss: 0.9531 - val_accuracy: 0.8340\n",
            "Epoch 40/50\n",
            "391/391 [==============================] - 23s 59ms/step - loss: 0.0336 - accuracy: 0.9904 - val_loss: 0.9188 - val_accuracy: 0.8348\n",
            "Epoch 41/50\n",
            "391/391 [==============================] - 23s 59ms/step - loss: 0.0298 - accuracy: 0.9910 - val_loss: 0.8581 - val_accuracy: 0.8452\n",
            "Epoch 42/50\n",
            "391/391 [==============================] - 23s 59ms/step - loss: 0.0322 - accuracy: 0.9906 - val_loss: 1.2117 - val_accuracy: 0.7878\n",
            "Epoch 43/50\n",
            "391/391 [==============================] - 23s 59ms/step - loss: 0.0269 - accuracy: 0.9919 - val_loss: 0.8706 - val_accuracy: 0.8466\n",
            "Epoch 44/50\n",
            "391/391 [==============================] - 23s 59ms/step - loss: 0.0315 - accuracy: 0.9905 - val_loss: 0.8434 - val_accuracy: 0.8480\n",
            "Epoch 45/50\n",
            "391/391 [==============================] - 23s 59ms/step - loss: 0.0292 - accuracy: 0.9914 - val_loss: 0.9881 - val_accuracy: 0.8336\n",
            "Epoch 46/50\n",
            "391/391 [==============================] - 23s 59ms/step - loss: 0.1229 - accuracy: 0.9694 - val_loss: 0.9318 - val_accuracy: 0.7959\n",
            "Epoch 47/50\n",
            "391/391 [==============================] - 23s 59ms/step - loss: 0.0580 - accuracy: 0.9841 - val_loss: 0.6970 - val_accuracy: 0.8602\n",
            "Epoch 48/50\n",
            "391/391 [==============================] - 23s 58ms/step - loss: 0.0187 - accuracy: 0.9943 - val_loss: 0.8839 - val_accuracy: 0.8563\n",
            "Epoch 49/50\n",
            "391/391 [==============================] - 23s 59ms/step - loss: 0.0210 - accuracy: 0.9934 - val_loss: 0.9111 - val_accuracy: 0.8540\n",
            "Epoch 50/50\n",
            "391/391 [==============================] - 23s 59ms/step - loss: 0.0172 - accuracy: 0.9951 - val_loss: 1.0362 - val_accuracy: 0.8430\n"
          ],
          "name": "stdout"
        }
      ]
    },
    {
      "cell_type": "code",
      "metadata": {
        "colab": {
          "base_uri": "https://localhost:8080/",
          "height": 265
        },
        "id": "wrjriJm6Sq08",
        "outputId": "12e3f14a-7ffd-4032-cd3d-5b51dd53404a"
      },
      "source": [
        "plt.plot(history.history['accuracy'])\n",
        "plt.plot(history.history['val_accuracy'])\n",
        "plt.legend(['epoch', 'validation'], loc = 'upper left')\n",
        "plt.show()"
      ],
      "execution_count": 13,
      "outputs": [
        {
          "output_type": "display_data",
          "data": {
            "image/png": "[encoded data removed]",
            "text/plain": [
              "<Figure size 432x288 with 1 Axes>"
            ]
          },
          "metadata": {
            "needs_background": "light"
          }
        }
      ]
    },
    {
      "cell_type": "code",
      "metadata": {
        "colab": {
          "base_uri": "https://localhost:8080/"
        },
        "id": "vXLnrfAMcd80",
        "outputId": "868a0d13-82e0-4346-8666-6ce28781e888"
      },
      "source": [
        "score = model.evaluate(x_test, y_test, verbose=1)\n",
        "print('Test loss:', score[0])\n",
        "print('Test accuracy:', score[1])\n",
        "predictions = model.predict(x_test, verbose=1)"
      ],
      "execution_count": 14,
      "outputs": [
        {
          "output_type": "stream",
          "text": [
            "313/313 [==============================] - 3s 7ms/step - loss: 1.0362 - accuracy: 0.8430\n",
            "Test loss: 1.0361520051956177\n",
            "Test accuracy: 0.8429999947547913\n",
            "313/313 [==============================] - 2s 5ms/step\n"
          ],
          "name": "stdout"
        }
      ]
    }
  ]
}