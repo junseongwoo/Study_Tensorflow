{
  "nbformat": 4,
  "nbformat_minor": 0,
  "metadata": {
    "colab": {
      "name": "VGGNet16.ipynb",
      "provenance": [],
      "collapsed_sections": [],
      "authorship_tag": "ABX9TyPI39xTdVnBAb+JXGV3J4xQ"
    },
    "kernelspec": {
      "name": "python3",
      "display_name": "Python 3"
    },
    "language_info": {
      "name": "python"
    },
    "accelerator": "GPU"
  },
  "cells": [
    {
      "cell_type": "code",
      "metadata": {
        "id": "XPZdjQaXR1Of"
      },
      "source": [
        "import tensorflow as tf\n",
        "import matplotlib.pyplot as plt\n",
        "from tensorflow.keras.datasets import cifar10\n",
        "from tensorflow.keras.models import Sequential, Model \n",
        "from tensorflow.keras.layers import Dense, Dropout, Flatten, Input, Conv2D, MaxPool2D, BatchNormalization \n",
        "from tensorflow.keras.optimizers import Adam\n",
        "from tensorflow.keras.utils import to_categorical\n",
        "from tensorflow.keras import datasets, layers, models, losses\n",
        "import cv2\n",
        "import numpy as np "
      ],
      "execution_count": 1,
      "outputs": []
    },
    {
      "cell_type": "code",
      "metadata": {
        "id": "qbfrIteNR4sd",
        "colab": {
          "base_uri": "https://localhost:8080/"
        },
        "outputId": "07b93a46-9252-4493-b379-9f0355796be7"
      },
      "source": [
        "(x_train, y_train), (x_test, y_test) = cifar10.load_data()"
      ],
      "execution_count": 2,
      "outputs": [
        {
          "output_type": "stream",
          "text": [
            "Downloading data from https://www.cs.toronto.edu/~kriz/cifar-10-python.tar.gz\n",
            "170500096/170498071 [==============================] - 6s 0us/step\n",
            "170508288/170498071 [==============================] - 6s 0us/step\n"
          ],
          "name": "stdout"
        }
      ]
    },
    {
      "cell_type": "code",
      "metadata": {
        "id": "5HMqGwXmR7vE"
      },
      "source": [
        "x_train = x_train.astype('float32') / 255.0 \n",
        "x_test = x_test.astype('float32') / 255.0 "
      ],
      "execution_count": 3,
      "outputs": []
    },
    {
      "cell_type": "code",
      "metadata": {
        "id": "WREfb0s3SZIT"
      },
      "source": [
        "y_train = to_categorical(y_train, 10)\n",
        "y_test = to_categorical(y_test, 10)"
      ],
      "execution_count": 4,
      "outputs": []
    },
    {
      "cell_type": "code",
      "metadata": {
        "colab": {
          "base_uri": "https://localhost:8080/"
        },
        "id": "VoI_1xGYTgv7",
        "outputId": "2072d8bc-aaad-427b-c8e4-fe34839f156c"
      },
      "source": [
        "y_train.shape, x_train.shape"
      ],
      "execution_count": 5,
      "outputs": [
        {
          "output_type": "execute_result",
          "data": {
            "text/plain": [
              "((50000, 10), (50000, 32, 32, 3))"
            ]
          },
          "metadata": {},
          "execution_count": 5
        }
      ]
    },
    {
      "cell_type": "code",
      "metadata": {
        "colab": {
          "base_uri": "https://localhost:8080/"
        },
        "id": "I6IQHP7FTkb7",
        "outputId": "75c4b684-66ae-4099-8596-c7dbd65faa8d"
      },
      "source": [
        "x_test.shape, y_test.shape"
      ],
      "execution_count": 6,
      "outputs": [
        {
          "output_type": "execute_result",
          "data": {
            "text/plain": [
              "((10000, 32, 32, 3), (10000, 10))"
            ]
          },
          "metadata": {},
          "execution_count": 6
        }
      ]
    },
    {
      "cell_type": "code",
      "metadata": {
        "id": "pYC26rdOR-xz"
      },
      "source": [
        "model = Sequential()\n",
        "# model.add(layers.experimental.preprocessing.Resizing(224, 224, interpolation=\"bilinear\", input_shape=x_train.shape[1:]))\n",
        "model.add(Conv2D(64, 3, strides= 1, activation='relu', padding='same', input_shape=x_train.shape[1:]))\n",
        "model.add(Conv2D(64, 3, strides= 1, activation='relu', padding='same'))\n",
        "model.add(MaxPool2D((2,2), strides=2))\n",
        "model.add(BatchNormalization())\n",
        "\n",
        "model.add(Conv2D(128, 3, strides=1, activation='relu', padding='same'))\n",
        "model.add(Conv2D(128, 3, strides=1, activation='relu', padding='same'))\n",
        "model.add(MaxPool2D((2, 2), strides=2))\n",
        "model.add(BatchNormalization())\n",
        "\n",
        "model.add(Conv2D(256, 3, strides=1, activation='relu', padding='same'))\n",
        "model.add(Conv2D(256, 3, strides=1, activation='relu', padding='same'))\n",
        "model.add(Conv2D(256, 3, strides=1, activation='relu', padding='same'))\n",
        "model.add(MaxPool2D((2, 2), strides=2))\n",
        "model.add(BatchNormalization())\n",
        "\n",
        "model.add(Conv2D(512, 3, strides=1, activation='relu', padding='same'))\n",
        "model.add(Conv2D(512, 3, strides=1, activation='relu', padding='same'))\n",
        "model.add(Conv2D(512, 3, strides=1, activation='relu', padding='same'))\n",
        "model.add(MaxPool2D((2, 2), strides=2))\n",
        "model.add(BatchNormalization())\n",
        "model.add(MaxPool2D((2, 2), strides=2))\n",
        "model.add(BatchNormalization())\n",
        "\n",
        "model.add(Flatten())\n",
        "model.add(Dense(4096, activation='relu'))\n",
        "model.add(Dropout(0.5))\n",
        "model.add(Dense(4096, activation='relu'))\n",
        "model.add(Dropout(0.5))\n",
        "model.add(Dense(10, activation='softmax'))"
      ],
      "execution_count": 7,
      "outputs": []
    },
    {
      "cell_type": "code",
      "metadata": {
        "colab": {
          "base_uri": "https://localhost:8080/"
        },
        "id": "Il9EztMfSBzT",
        "outputId": "343631a9-804d-434e-ec03-bc922f485f2c"
      },
      "source": [
        "model.summary()"
      ],
      "execution_count": 8,
      "outputs": [
        {
          "output_type": "stream",
          "text": [
            "Model: \"sequential\"\n",
            "_________________________________________________________________\n",
            "Layer (type)                 Output Shape              Param #   \n",
            "=================================================================\n",
            "conv2d (Conv2D)              (None, 32, 32, 64)        1792      \n",
            "_________________________________________________________________\n",
            "conv2d_1 (Conv2D)            (None, 32, 32, 64)        36928     \n",
            "_________________________________________________________________\n",
            "max_pooling2d (MaxPooling2D) (None, 16, 16, 64)        0         \n",
            "_________________________________________________________________\n",
            "batch_normalization (BatchNo (None, 16, 16, 64)        256       \n",
            "_________________________________________________________________\n",
            "conv2d_2 (Conv2D)            (None, 16, 16, 128)       73856     \n",
            "_________________________________________________________________\n",
            "conv2d_3 (Conv2D)            (None, 16, 16, 128)       147584    \n",
            "_________________________________________________________________\n",
            "max_pooling2d_1 (MaxPooling2 (None, 8, 8, 128)         0         \n",
            "_________________________________________________________________\n",
            "batch_normalization_1 (Batch (None, 8, 8, 128)         512       \n",
            "_________________________________________________________________\n",
            "conv2d_4 (Conv2D)            (None, 8, 8, 256)         295168    \n",
            "_________________________________________________________________\n",
            "conv2d_5 (Conv2D)            (None, 8, 8, 256)         590080    \n",
            "_________________________________________________________________\n",
            "conv2d_6 (Conv2D)            (None, 8, 8, 256)         590080    \n",
            "_________________________________________________________________\n",
            "max_pooling2d_2 (MaxPooling2 (None, 4, 4, 256)         0         \n",
            "_________________________________________________________________\n",
            "batch_normalization_2 (Batch (None, 4, 4, 256)         1024      \n",
            "_________________________________________________________________\n",
            "conv2d_7 (Conv2D)            (None, 4, 4, 512)         1180160   \n",
            "_________________________________________________________________\n",
            "conv2d_8 (Conv2D)            (None, 4, 4, 512)         2359808   \n",
            "_________________________________________________________________\n",
            "conv2d_9 (Conv2D)            (None, 4, 4, 512)         2359808   \n",
            "_________________________________________________________________\n",
            "max_pooling2d_3 (MaxPooling2 (None, 2, 2, 512)         0         \n",
            "_________________________________________________________________\n",
            "batch_normalization_3 (Batch (None, 2, 2, 512)         2048      \n",
            "_________________________________________________________________\n",
            "max_pooling2d_4 (MaxPooling2 (None, 1, 1, 512)         0         \n",
            "_________________________________________________________________\n",
            "batch_normalization_4 (Batch (None, 1, 1, 512)         2048      \n",
            "_________________________________________________________________\n",
            "flatten (Flatten)            (None, 512)               0         \n",
            "_________________________________________________________________\n",
            "dense (Dense)                (None, 4096)              2101248   \n",
            "_________________________________________________________________\n",
            "dropout (Dropout)            (None, 4096)              0         \n",
            "_________________________________________________________________\n",
            "dense_1 (Dense)              (None, 4096)              16781312  \n",
            "_________________________________________________________________\n",
            "dropout_1 (Dropout)          (None, 4096)              0         \n",
            "_________________________________________________________________\n",
            "dense_2 (Dense)              (None, 10)                40970     \n",
            "=================================================================\n",
            "Total params: 26,564,682\n",
            "Trainable params: 26,561,738\n",
            "Non-trainable params: 2,944\n",
            "_________________________________________________________________\n"
          ],
          "name": "stdout"
        }
      ]
    },
    {
      "cell_type": "code",
      "metadata": {
        "colab": {
          "base_uri": "https://localhost:8080/"
        },
        "id": "_0xgXr12SSn8",
        "outputId": "b12bb9c4-0bfd-43a1-ca67-967ed377b06e"
      },
      "source": [
        "model.compile(optimizer='adam', \n",
        "              loss=losses.categorical_crossentropy, \n",
        "              metrics=['accuracy'])\n",
        "\n",
        "history = model.fit(x_train, y_train, \n",
        "                    batch_size=128, \n",
        "                    epochs=50, \n",
        "                    verbose=1, \n",
        "                    validation_data=(x_test, y_test))"
      ],
      "execution_count": 9,
      "outputs": [
        {
          "output_type": "stream",
          "text": [
            "Epoch 1/50\n",
            "391/391 [==============================] - 74s 110ms/step - loss: 1.6065 - accuracy: 0.4305 - val_loss: 10.8782 - val_accuracy: 0.1000\n",
            "Epoch 2/50\n",
            "391/391 [==============================] - 41s 106ms/step - loss: 1.0472 - accuracy: 0.6315 - val_loss: 1.7171 - val_accuracy: 0.4872\n",
            "Epoch 3/50\n",
            "391/391 [==============================] - 41s 106ms/step - loss: 0.8292 - accuracy: 0.7174 - val_loss: 1.5320 - val_accuracy: 0.5422\n",
            "Epoch 4/50\n",
            "391/391 [==============================] - 41s 106ms/step - loss: 0.6856 - accuracy: 0.7710 - val_loss: 1.0048 - val_accuracy: 0.6840\n",
            "Epoch 5/50\n",
            "391/391 [==============================] - 41s 106ms/step - loss: 0.5822 - accuracy: 0.8067 - val_loss: 0.8771 - val_accuracy: 0.7230\n",
            "Epoch 6/50\n",
            "391/391 [==============================] - 41s 106ms/step - loss: 0.4869 - accuracy: 0.8418 - val_loss: 0.8387 - val_accuracy: 0.7560\n",
            "Epoch 7/50\n",
            "391/391 [==============================] - 41s 106ms/step - loss: 0.4121 - accuracy: 0.8641 - val_loss: 0.7020 - val_accuracy: 0.7892\n",
            "Epoch 8/50\n",
            "391/391 [==============================] - 41s 106ms/step - loss: 0.3477 - accuracy: 0.8861 - val_loss: 0.6084 - val_accuracy: 0.8068\n",
            "Epoch 9/50\n",
            "391/391 [==============================] - 41s 106ms/step - loss: 0.2882 - accuracy: 0.9059 - val_loss: 0.8929 - val_accuracy: 0.7659\n",
            "Epoch 10/50\n",
            "391/391 [==============================] - 41s 106ms/step - loss: 0.2497 - accuracy: 0.9174 - val_loss: 0.6517 - val_accuracy: 0.8114\n",
            "Epoch 11/50\n",
            "391/391 [==============================] - 41s 106ms/step - loss: 0.2172 - accuracy: 0.9288 - val_loss: 0.7705 - val_accuracy: 0.7973\n",
            "Epoch 12/50\n",
            "391/391 [==============================] - 41s 106ms/step - loss: 0.1747 - accuracy: 0.9448 - val_loss: 0.9945 - val_accuracy: 0.7649\n",
            "Epoch 13/50\n",
            "391/391 [==============================] - 41s 106ms/step - loss: 0.1451 - accuracy: 0.9542 - val_loss: 0.7769 - val_accuracy: 0.8207\n",
            "Epoch 14/50\n",
            "391/391 [==============================] - 41s 106ms/step - loss: 0.1286 - accuracy: 0.9595 - val_loss: 0.9893 - val_accuracy: 0.7723\n",
            "Epoch 15/50\n",
            "391/391 [==============================] - 41s 106ms/step - loss: 0.1116 - accuracy: 0.9649 - val_loss: 0.8900 - val_accuracy: 0.8163\n",
            "Epoch 16/50\n",
            "391/391 [==============================] - 41s 106ms/step - loss: 0.0995 - accuracy: 0.9700 - val_loss: 0.7646 - val_accuracy: 0.8255\n",
            "Epoch 17/50\n",
            "391/391 [==============================] - 41s 106ms/step - loss: 0.0985 - accuracy: 0.9702 - val_loss: 2.1937 - val_accuracy: 0.4618\n",
            "Epoch 18/50\n",
            "391/391 [==============================] - 41s 106ms/step - loss: 0.0841 - accuracy: 0.9729 - val_loss: 1.0053 - val_accuracy: 0.8085\n",
            "Epoch 19/50\n",
            "391/391 [==============================] - 41s 106ms/step - loss: 0.0984 - accuracy: 0.9695 - val_loss: 1.2136 - val_accuracy: 0.7736\n",
            "Epoch 20/50\n",
            "391/391 [==============================] - 41s 106ms/step - loss: 0.1369 - accuracy: 0.9612 - val_loss: 0.7759 - val_accuracy: 0.8100\n",
            "Epoch 21/50\n",
            "391/391 [==============================] - 41s 106ms/step - loss: 0.1615 - accuracy: 0.9524 - val_loss: 0.9250 - val_accuracy: 0.8166\n",
            "Epoch 22/50\n",
            "391/391 [==============================] - 41s 106ms/step - loss: 0.0541 - accuracy: 0.9837 - val_loss: 0.8757 - val_accuracy: 0.8316\n",
            "Epoch 23/50\n",
            "391/391 [==============================] - 41s 106ms/step - loss: 0.0502 - accuracy: 0.9846 - val_loss: 0.8837 - val_accuracy: 0.8237\n",
            "Epoch 24/50\n",
            "391/391 [==============================] - 41s 106ms/step - loss: 0.0505 - accuracy: 0.9847 - val_loss: 1.0040 - val_accuracy: 0.8280\n",
            "Epoch 25/50\n",
            "391/391 [==============================] - 41s 106ms/step - loss: 0.0473 - accuracy: 0.9857 - val_loss: 1.0705 - val_accuracy: 0.8106\n",
            "Epoch 26/50\n",
            "391/391 [==============================] - 41s 106ms/step - loss: 0.0510 - accuracy: 0.9846 - val_loss: 5.2666 - val_accuracy: 0.8312\n",
            "Epoch 27/50\n",
            "391/391 [==============================] - 41s 106ms/step - loss: 0.0587 - accuracy: 0.9826 - val_loss: 1.3470 - val_accuracy: 0.7938\n",
            "Epoch 28/50\n",
            "391/391 [==============================] - 41s 105ms/step - loss: 0.0546 - accuracy: 0.9840 - val_loss: 1.2333 - val_accuracy: 0.8060\n",
            "Epoch 29/50\n",
            "391/391 [==============================] - 41s 106ms/step - loss: 0.0497 - accuracy: 0.9853 - val_loss: 1.0210 - val_accuracy: 0.8222\n",
            "Epoch 30/50\n",
            "391/391 [==============================] - 41s 106ms/step - loss: 0.0473 - accuracy: 0.9857 - val_loss: 0.9910 - val_accuracy: 0.8304\n",
            "Epoch 31/50\n",
            "391/391 [==============================] - 41s 106ms/step - loss: 0.0636 - accuracy: 0.9820 - val_loss: 1.1390 - val_accuracy: 0.8115\n",
            "Epoch 32/50\n",
            "391/391 [==============================] - 41s 106ms/step - loss: 0.0397 - accuracy: 0.9881 - val_loss: 1.0890 - val_accuracy: 0.8269\n",
            "Epoch 33/50\n",
            "391/391 [==============================] - 41s 106ms/step - loss: 0.0427 - accuracy: 0.9880 - val_loss: 0.9020 - val_accuracy: 0.8284\n",
            "Epoch 34/50\n",
            "391/391 [==============================] - 41s 106ms/step - loss: 0.1376 - accuracy: 0.9630 - val_loss: 0.8989 - val_accuracy: 0.8045\n",
            "Epoch 35/50\n",
            "391/391 [==============================] - 41s 106ms/step - loss: 0.0520 - accuracy: 0.9848 - val_loss: 0.9726 - val_accuracy: 0.8195\n",
            "Epoch 36/50\n",
            "391/391 [==============================] - 42s 107ms/step - loss: 0.0244 - accuracy: 0.9928 - val_loss: 1.3070 - val_accuracy: 0.8196\n",
            "Epoch 37/50\n",
            "391/391 [==============================] - 41s 105ms/step - loss: 0.0269 - accuracy: 0.9923 - val_loss: 1.0188 - val_accuracy: 0.8431\n",
            "Epoch 38/50\n",
            "391/391 [==============================] - 42s 107ms/step - loss: 0.0237 - accuracy: 0.9932 - val_loss: 1.2391 - val_accuracy: 0.8150\n",
            "Epoch 39/50\n",
            "391/391 [==============================] - 41s 106ms/step - loss: 0.0384 - accuracy: 0.9895 - val_loss: 1.2236 - val_accuracy: 0.8250\n",
            "Epoch 40/50\n",
            "391/391 [==============================] - 41s 106ms/step - loss: 0.0332 - accuracy: 0.9903 - val_loss: 1.1102 - val_accuracy: 0.8203\n",
            "Epoch 41/50\n",
            "391/391 [==============================] - 41s 106ms/step - loss: 0.0393 - accuracy: 0.9891 - val_loss: 1.0614 - val_accuracy: 0.8287\n",
            "Epoch 42/50\n",
            "391/391 [==============================] - 42s 106ms/step - loss: 0.0341 - accuracy: 0.9900 - val_loss: 0.9918 - val_accuracy: 0.8435\n",
            "Epoch 43/50\n",
            "391/391 [==============================] - 41s 106ms/step - loss: 0.0385 - accuracy: 0.9894 - val_loss: 1.0731 - val_accuracy: 0.8089\n",
            "Epoch 44/50\n",
            "391/391 [==============================] - 41s 106ms/step - loss: 0.0381 - accuracy: 0.9895 - val_loss: 0.9905 - val_accuracy: 0.8293\n",
            "Epoch 45/50\n",
            "391/391 [==============================] - 41s 106ms/step - loss: 0.0379 - accuracy: 0.9888 - val_loss: 1.5096 - val_accuracy: 0.8210\n",
            "Epoch 46/50\n",
            "391/391 [==============================] - 41s 106ms/step - loss: 0.0301 - accuracy: 0.9915 - val_loss: 1.5205 - val_accuracy: 0.8076\n",
            "Epoch 47/50\n",
            "391/391 [==============================] - 42s 106ms/step - loss: 0.0426 - accuracy: 0.9882 - val_loss: 1.0561 - val_accuracy: 0.8216\n",
            "Epoch 48/50\n",
            "391/391 [==============================] - 41s 106ms/step - loss: 0.0262 - accuracy: 0.9924 - val_loss: 1.1638 - val_accuracy: 0.8295\n",
            "Epoch 49/50\n",
            "391/391 [==============================] - 41s 106ms/step - loss: 0.0215 - accuracy: 0.9939 - val_loss: 1.1204 - val_accuracy: 0.8433\n",
            "Epoch 50/50\n",
            "391/391 [==============================] - 41s 106ms/step - loss: 0.0311 - accuracy: 0.9917 - val_loss: 1.5999 - val_accuracy: 0.8430\n"
          ],
          "name": "stdout"
        }
      ]
    },
    {
      "cell_type": "code",
      "metadata": {
        "colab": {
          "base_uri": "https://localhost:8080/",
          "height": 265
        },
        "id": "wrjriJm6Sq08",
        "outputId": "735372e0-1462-4b01-a654-208928984e2e"
      },
      "source": [
        "plt.plot(history.history['accuracy'])\n",
        "plt.plot(history.history['val_accuracy'])\n",
        "plt.legend(['epoch', 'validation'], loc = 'upper left')\n",
        "plt.show()"
      ],
      "execution_count": 10,
      "outputs": [
        {
          "output_type": "display_data",
          "data": {
            "image/png": "[encoded data removed]",
            "text/plain": [
              "<Figure size 432x288 with 1 Axes>"
            ]
          },
          "metadata": {
            "needs_background": "light"
          }
        }
      ]
    },
    {
      "cell_type": "code",
      "metadata": {
        "colab": {
          "base_uri": "https://localhost:8080/"
        },
        "id": "vXLnrfAMcd80",
        "outputId": "753a1770-c85e-4e87-a88d-6b92d39e322e"
      },
      "source": [
        "score = model.evaluate(x_test, y_test, verbose=1)\n",
        "print('Test loss:', score[0])\n",
        "print('Test accuracy:', score[1])\n",
        "predictions = model.predict(x_test, verbose=1)"
      ],
      "execution_count": 11,
      "outputs": [
        {
          "output_type": "stream",
          "text": [
            "313/313 [==============================] - 5s 15ms/step - loss: 1.5999 - accuracy: 0.8430\n",
            "Test loss: 1.5999219417572021\n",
            "Test accuracy: 0.8429999947547913\n",
            "313/313 [==============================] - 4s 12ms/step\n"
          ],
          "name": "stdout"
        }
      ]
    }
  ]
}