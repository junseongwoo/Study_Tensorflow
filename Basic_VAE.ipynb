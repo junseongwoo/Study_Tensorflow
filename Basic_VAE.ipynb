{
  "nbformat": 4,
  "nbformat_minor": 0,
  "metadata": {
    "colab": {
      "name": "Basic_VAE.ipynb",
      "provenance": [],
      "authorship_tag": "ABX9TyMtAKenq7FD9e5w0dVKYg+b"
    },
    "kernelspec": {
      "name": "python3",
      "display_name": "Python 3"
    },
    "language_info": {
      "name": "python"
    }
  },
  "cells": [
    {
      "cell_type": "code",
      "metadata": {
        "id": "yYii-WhX6oK7"
      },
      "source": [
        "# 인코딩과 디코딩 \n",
        "\n",
        "# 인코더는 입력 x 를 잠재 공간 (latent space), 즉 인코더에 의해 정의된 숨겨진 구조화된 값 집합에 매핑하는 함수\n",
        "# 디코더는 latent space 요소를 사전 정의된 타겟 도메인으로 매핑하는 함수  \n",
        "\n",
        "### 오토인코더 \n",
        "# 입력을 저차원 latent space로 인코딩 한 후 디코딩하여 복원하는 네트워크 \n",
        "# 이미지를 입력받아 인코더 모듈을 사용하여 latent vector space 로 매핑하고\n",
        "# 디코더 모듈을 사용하여 원본 이미지와 동일한 차원으로 복원하여 출력\n",
        "\n",
        "# 원본 입력을 재구성하는 방법으로 학습"
      ],
      "execution_count": null,
      "outputs": []
    }
  ]
}