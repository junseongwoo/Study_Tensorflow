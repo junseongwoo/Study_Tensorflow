{
  "nbformat": 4,
  "nbformat_minor": 0,
  "metadata": {
    "colab": {
      "name": "gender_classification.ipynb",
      "provenance": [],
      "authorship_tag": "ABX9TyNsnsy/dtPgUjHiI0bd9Pd7"
    },
    "kernelspec": {
      "name": "python3",
      "display_name": "Python 3"
    },
    "language_info": {
      "name": "python"
    },
    "accelerator": "GPU"
  },
  "cells": [
    {
      "cell_type": "code",
      "metadata": {
        "colab": {
          "base_uri": "https://localhost:8080/"
        },
        "id": "iwbESW2r7S1l",
        "outputId": "ef05a2f7-f523-45d7-80d4-e43d605d82ed"
      },
      "source": [
        "from google.colab import drive\n",
        "drive.mount('/content/drive')"
      ],
      "execution_count": 1,
      "outputs": [
        {
          "output_type": "stream",
          "text": [
            "Drive already mounted at /content/drive; to attempt to forcibly remount, call drive.mount(\"/content/drive\", force_remount=True).\n"
          ],
          "name": "stdout"
        }
      ]
    },
    {
      "cell_type": "code",
      "metadata": {
        "id": "vCEgkdoj_Isc"
      },
      "source": [
        "from PIL import Image\n",
        "import os, glob, numpy as np\n",
        "from sklearn.model_selection import train_test_split\n",
        "from keras.models import Sequential\n",
        "from keras.layers import Conv2D, MaxPool2D, Dense, Flatten, Dropout, BatchNormalization\n",
        "from tensorflow.keras import layers\n",
        "from keras.callbacks import EarlyStopping, ModelCheckpoint\n",
        "import matplotlib.pyplot as plt\n",
        "import tensorflow as tf"
      ],
      "execution_count": 2,
      "outputs": []
    },
    {
      "cell_type": "code",
      "metadata": {
        "colab": {
          "base_uri": "https://localhost:8080/"
        },
        "id": "ZNWGGo7hKqOM",
        "outputId": "a07e65ea-a070-4ff7-d1e8-e320cd25487c"
      },
      "source": [
        "caltech_dir = \"/content/drive/MyDrive/Colab Notebooks/gender_classification/dataset/train\"\n",
        "categories = [\"man\", \"woman\"]\n",
        "num_classes = len(categories)\n",
        "\n",
        "image_w = 128\n",
        "image_h = 128\n",
        "\n",
        "pixels = image_h * image_w * 3\n",
        "\n",
        "X = []\n",
        "y = []\n",
        "\n",
        "for idx, category in enumerate(categories):\n",
        "    \n",
        "    #one-hot 돌리기.\n",
        "    label = [0 for i in range(num_classes)]\n",
        "    label[idx] = 1\n",
        "\n",
        "    image_dir = caltech_dir + \"/\" + category\n",
        "    files = glob.glob(image_dir+\"/*.jpg\")\n",
        "    print(category, \" 파일 길이 : \", len(files))\n",
        "    for i, f in enumerate(files):\n",
        "        img = Image.open(f)\n",
        "        img = img.convert(\"RGB\")\n",
        "        img = img.resize((image_w, image_h))\n",
        "        data = np.asarray(img)\n",
        "\n",
        "        X.append(data)\n",
        "        y.append(label)\n",
        "\n",
        "        if i % 700 == 0:\n",
        "            print(category, \" : \", f)\n",
        "\n",
        "X = np.array(X)\n",
        "y = np.array(y)\n",
        "#1 0  이면 man\n",
        "#0 1  이면 woman 이런식\n",
        "\n",
        "\n",
        "X_train, X_test, y_train, y_test = train_test_split(X, y)\n",
        "xy = (X_train, X_test, y_train, y_test)\n",
        "np.save(\"/content/drive/MyDrive/Colab Notebooks/gender_classification/dataset/gender_data1.npy\", xy)\n",
        "\n",
        "print(\"ok\", len(y))"
      ],
      "execution_count": 3,
      "outputs": [
        {
          "output_type": "stream",
          "text": [
            "man  파일 길이 :  774\n",
            "man  :  /content/drive/MyDrive/Colab Notebooks/gender_classification/dataset/train/man/image_1007.jpg\n",
            "man  :  /content/drive/MyDrive/Colab Notebooks/gender_classification/dataset/train/man/image_1405.jpg\n",
            "woman  파일 길이 :  760\n",
            "woman  :  /content/drive/MyDrive/Colab Notebooks/gender_classification/dataset/train/woman/image_1006.jpg\n",
            "woman  :  /content/drive/MyDrive/Colab Notebooks/gender_classification/dataset/train/woman/image_931.jpg\n",
            "ok 1534\n"
          ],
          "name": "stdout"
        },
        {
          "output_type": "stream",
          "text": [
            "/usr/local/lib/python3.7/dist-packages/numpy/core/_asarray.py:136: VisibleDeprecationWarning: Creating an ndarray from ragged nested sequences (which is a list-or-tuple of lists-or-tuples-or ndarrays with different lengths or shapes) is deprecated. If you meant to do this, you must specify 'dtype=object' when creating the ndarray\n",
            "  return array(a, dtype, copy=False, order=order, subok=True)\n"
          ],
          "name": "stderr"
        }
      ]
    },
    {
      "cell_type": "code",
      "metadata": {
        "id": "rsrU3jWJL6q2"
      },
      "source": [
        "categories = [\"man\", \"woman\"]\n",
        "num_classes = len(categories)\n",
        "\n",
        "#일반화\n",
        "X_train = X_train.astype('float32') / 255.0\n",
        "X_test = X_test.astype('float32') / 255.0"
      ],
      "execution_count": 5,
      "outputs": []
    },
    {
      "cell_type": "code",
      "metadata": {
        "id": "ayoyQUwxD7SU"
      },
      "source": [
        "model = Sequential()\n",
        "model.add(Conv2D(64, 3, strides= 1, activation='relu', padding='same', input_shape=X_train.shape[1:]))\n",
        "model.add(Conv2D(64, 3, strides= 1, activation='relu', padding='same'))\n",
        "model.add(MaxPool2D((2,2), strides=2))\n",
        "model.add(BatchNormalization())\n",
        "\n",
        "model.add(Conv2D(128, 3, strides=1, activation='relu', padding='same'))\n",
        "model.add(Conv2D(128, 3, strides=1, activation='relu', padding='same'))\n",
        "model.add(MaxPool2D((2, 2), strides=2))\n",
        "model.add(BatchNormalization())\n",
        "\n",
        "model.add(Conv2D(256, 3, strides=1, activation='relu', padding='same'))\n",
        "model.add(Conv2D(256, 3, strides=1, activation='relu', padding='same'))\n",
        "model.add(Conv2D(256, 3, strides=1, activation='relu', padding='same'))\n",
        "model.add(MaxPool2D((2, 2), strides=2))\n",
        "model.add(BatchNormalization())\n",
        "\n",
        "model.add(Conv2D(512, 3, strides=1, activation='relu', padding='same'))\n",
        "model.add(Conv2D(512, 3, strides=1, activation='relu', padding='same'))\n",
        "model.add(Conv2D(512, 3, strides=1, activation='relu', padding='same'))\n",
        "model.add(MaxPool2D((2, 2), strides=2))\n",
        "model.add(BatchNormalization())\n",
        "model.add(MaxPool2D((2, 2), strides=2))\n",
        "model.add(BatchNormalization())\n",
        "\n",
        "model.add(Flatten())\n",
        "model.add(Dense(4096, activation='relu'))\n",
        "model.add(Dropout(0.5))\n",
        "model.add(Dense(4096, activation='relu'))\n",
        "model.add(Dropout(0.5))\n",
        "model.add(Dense(2, activation='softmax'))"
      ],
      "execution_count": 6,
      "outputs": []
    },
    {
      "cell_type": "code",
      "metadata": {
        "colab": {
          "base_uri": "https://localhost:8080/"
        },
        "id": "TTazsnhgFEdt",
        "outputId": "c380ec26-8dff-49b8-b236-00430434899a"
      },
      "source": [
        "model.summary()"
      ],
      "execution_count": 7,
      "outputs": [
        {
          "output_type": "stream",
          "text": [
            "Model: \"sequential\"\n",
            "_________________________________________________________________\n",
            "Layer (type)                 Output Shape              Param #   \n",
            "=================================================================\n",
            "conv2d (Conv2D)              (None, 128, 128, 64)      1792      \n",
            "_________________________________________________________________\n",
            "conv2d_1 (Conv2D)            (None, 128, 128, 64)      36928     \n",
            "_________________________________________________________________\n",
            "max_pooling2d (MaxPooling2D) (None, 64, 64, 64)        0         \n",
            "_________________________________________________________________\n",
            "batch_normalization (BatchNo (None, 64, 64, 64)        256       \n",
            "_________________________________________________________________\n",
            "conv2d_2 (Conv2D)            (None, 64, 64, 128)       73856     \n",
            "_________________________________________________________________\n",
            "conv2d_3 (Conv2D)            (None, 64, 64, 128)       147584    \n",
            "_________________________________________________________________\n",
            "max_pooling2d_1 (MaxPooling2 (None, 32, 32, 128)       0         \n",
            "_________________________________________________________________\n",
            "batch_normalization_1 (Batch (None, 32, 32, 128)       512       \n",
            "_________________________________________________________________\n",
            "conv2d_4 (Conv2D)            (None, 32, 32, 256)       295168    \n",
            "_________________________________________________________________\n",
            "conv2d_5 (Conv2D)            (None, 32, 32, 256)       590080    \n",
            "_________________________________________________________________\n",
            "conv2d_6 (Conv2D)            (None, 32, 32, 256)       590080    \n",
            "_________________________________________________________________\n",
            "max_pooling2d_2 (MaxPooling2 (None, 16, 16, 256)       0         \n",
            "_________________________________________________________________\n",
            "batch_normalization_2 (Batch (None, 16, 16, 256)       1024      \n",
            "_________________________________________________________________\n",
            "conv2d_7 (Conv2D)            (None, 16, 16, 512)       1180160   \n",
            "_________________________________________________________________\n",
            "conv2d_8 (Conv2D)            (None, 16, 16, 512)       2359808   \n",
            "_________________________________________________________________\n",
            "conv2d_9 (Conv2D)            (None, 16, 16, 512)       2359808   \n",
            "_________________________________________________________________\n",
            "max_pooling2d_3 (MaxPooling2 (None, 8, 8, 512)         0         \n",
            "_________________________________________________________________\n",
            "batch_normalization_3 (Batch (None, 8, 8, 512)         2048      \n",
            "_________________________________________________________________\n",
            "max_pooling2d_4 (MaxPooling2 (None, 4, 4, 512)         0         \n",
            "_________________________________________________________________\n",
            "batch_normalization_4 (Batch (None, 4, 4, 512)         2048      \n",
            "_________________________________________________________________\n",
            "flatten (Flatten)            (None, 8192)              0         \n",
            "_________________________________________________________________\n",
            "dense (Dense)                (None, 4096)              33558528  \n",
            "_________________________________________________________________\n",
            "dropout (Dropout)            (None, 4096)              0         \n",
            "_________________________________________________________________\n",
            "dense_1 (Dense)              (None, 4096)              16781312  \n",
            "_________________________________________________________________\n",
            "dropout_1 (Dropout)          (None, 4096)              0         \n",
            "_________________________________________________________________\n",
            "dense_2 (Dense)              (None, 2)                 8194      \n",
            "=================================================================\n",
            "Total params: 57,989,186\n",
            "Trainable params: 57,986,242\n",
            "Non-trainable params: 2,944\n",
            "_________________________________________________________________\n"
          ],
          "name": "stdout"
        }
      ]
    },
    {
      "cell_type": "code",
      "metadata": {
        "id": "sbh16qf5G8p8"
      },
      "source": [
        "model.compile(optimizer = 'adam', \n",
        "              loss = 'categorical_crossentropy', \n",
        "              metrics = ['accuracy'])"
      ],
      "execution_count": 8,
      "outputs": []
    },
    {
      "cell_type": "code",
      "metadata": {
        "colab": {
          "base_uri": "https://localhost:8080/"
        },
        "id": "zbuTZMzRGtUN",
        "outputId": "db52d346-875d-454b-efe4-8f0a5d1dabc9"
      },
      "source": [
        "history = model.fit(X_train, y_train, \n",
        "                    batch_size = 32, \n",
        "                    epochs = 50, \n",
        "                    verbose = 1,\n",
        "                    validation_data=(X_test, y_test))"
      ],
      "execution_count": 9,
      "outputs": [
        {
          "output_type": "stream",
          "text": [
            "Epoch 1/50\n",
            "36/36 [==============================] - 18s 280ms/step - loss: 6.0137 - accuracy: 0.6078 - val_loss: 12.1273 - val_accuracy: 0.4740\n",
            "Epoch 2/50\n",
            "36/36 [==============================] - 5s 148ms/step - loss: 1.2259 - accuracy: 0.6948 - val_loss: 2.2883 - val_accuracy: 0.5260\n",
            "Epoch 3/50\n",
            "36/36 [==============================] - 6s 154ms/step - loss: 0.6810 - accuracy: 0.7339 - val_loss: 0.7600 - val_accuracy: 0.4740\n",
            "Epoch 4/50\n",
            "36/36 [==============================] - 5s 150ms/step - loss: 0.5795 - accuracy: 0.7600 - val_loss: 1.4248 - val_accuracy: 0.5260\n",
            "Epoch 5/50\n",
            "36/36 [==============================] - 5s 151ms/step - loss: 0.5428 - accuracy: 0.7696 - val_loss: 2.0117 - val_accuracy: 0.4740\n",
            "Epoch 6/50\n",
            "36/36 [==============================] - 5s 152ms/step - loss: 0.4823 - accuracy: 0.7965 - val_loss: 0.8178 - val_accuracy: 0.4766\n",
            "Epoch 7/50\n",
            "36/36 [==============================] - 6s 158ms/step - loss: 0.4529 - accuracy: 0.8209 - val_loss: 1.4394 - val_accuracy: 0.4740\n",
            "Epoch 8/50\n",
            "36/36 [==============================] - 6s 158ms/step - loss: 0.4856 - accuracy: 0.7826 - val_loss: 0.6311 - val_accuracy: 0.6042\n",
            "Epoch 9/50\n",
            "36/36 [==============================] - 5s 153ms/step - loss: 0.3768 - accuracy: 0.8435 - val_loss: 0.7134 - val_accuracy: 0.5312\n",
            "Epoch 10/50\n",
            "36/36 [==============================] - 5s 152ms/step - loss: 0.3824 - accuracy: 0.8348 - val_loss: 0.5733 - val_accuracy: 0.6953\n",
            "Epoch 11/50\n",
            "36/36 [==============================] - 5s 151ms/step - loss: 0.3761 - accuracy: 0.8357 - val_loss: 1.1364 - val_accuracy: 0.5391\n",
            "Epoch 12/50\n",
            "36/36 [==============================] - 5s 150ms/step - loss: 0.3598 - accuracy: 0.8435 - val_loss: 0.7295 - val_accuracy: 0.6849\n",
            "Epoch 13/50\n",
            "36/36 [==============================] - 5s 149ms/step - loss: 0.3510 - accuracy: 0.8513 - val_loss: 1.1312 - val_accuracy: 0.5885\n",
            "Epoch 14/50\n",
            "36/36 [==============================] - 6s 155ms/step - loss: 0.3550 - accuracy: 0.8652 - val_loss: 0.8727 - val_accuracy: 0.7266\n",
            "Epoch 15/50\n",
            "36/36 [==============================] - 6s 155ms/step - loss: 0.3314 - accuracy: 0.8548 - val_loss: 0.4766 - val_accuracy: 0.8021\n",
            "Epoch 16/50\n",
            "36/36 [==============================] - 5s 149ms/step - loss: 0.3230 - accuracy: 0.8687 - val_loss: 0.4076 - val_accuracy: 0.8073\n",
            "Epoch 17/50\n",
            "36/36 [==============================] - 5s 149ms/step - loss: 0.2956 - accuracy: 0.8835 - val_loss: 0.4426 - val_accuracy: 0.7995\n",
            "Epoch 18/50\n",
            "36/36 [==============================] - 6s 154ms/step - loss: 0.3186 - accuracy: 0.8774 - val_loss: 0.5137 - val_accuracy: 0.7995\n",
            "Epoch 19/50\n",
            "36/36 [==============================] - 5s 150ms/step - loss: 0.3027 - accuracy: 0.8774 - val_loss: 1.1792 - val_accuracy: 0.6406\n",
            "Epoch 20/50\n",
            "36/36 [==============================] - 5s 150ms/step - loss: 0.2551 - accuracy: 0.9070 - val_loss: 0.4487 - val_accuracy: 0.8333\n",
            "Epoch 21/50\n",
            "36/36 [==============================] - 5s 151ms/step - loss: 0.2882 - accuracy: 0.8800 - val_loss: 1.1313 - val_accuracy: 0.7552\n",
            "Epoch 22/50\n",
            "36/36 [==============================] - 5s 151ms/step - loss: 0.2380 - accuracy: 0.9078 - val_loss: 3.6781 - val_accuracy: 0.6667\n",
            "Epoch 23/50\n",
            "36/36 [==============================] - 5s 151ms/step - loss: 0.2301 - accuracy: 0.9157 - val_loss: 1.2530 - val_accuracy: 0.8021\n",
            "Epoch 24/50\n",
            "36/36 [==============================] - 6s 155ms/step - loss: 0.2788 - accuracy: 0.9017 - val_loss: 1.9332 - val_accuracy: 0.5990\n",
            "Epoch 25/50\n",
            "36/36 [==============================] - 6s 156ms/step - loss: 0.1706 - accuracy: 0.9400 - val_loss: 0.7231 - val_accuracy: 0.8099\n",
            "Epoch 26/50\n",
            "36/36 [==============================] - 6s 155ms/step - loss: 0.1555 - accuracy: 0.9435 - val_loss: 0.9072 - val_accuracy: 0.8177\n",
            "Epoch 27/50\n",
            "36/36 [==============================] - 5s 150ms/step - loss: 0.2630 - accuracy: 0.9096 - val_loss: 1.4992 - val_accuracy: 0.7839\n",
            "Epoch 28/50\n",
            "36/36 [==============================] - 5s 150ms/step - loss: 0.2054 - accuracy: 0.9252 - val_loss: 1.2086 - val_accuracy: 0.7995\n",
            "Epoch 29/50\n",
            "36/36 [==============================] - 6s 155ms/step - loss: 0.2087 - accuracy: 0.9278 - val_loss: 0.5608 - val_accuracy: 0.8464\n",
            "Epoch 30/50\n",
            "36/36 [==============================] - 6s 155ms/step - loss: 0.1630 - accuracy: 0.9365 - val_loss: 0.6682 - val_accuracy: 0.8359\n",
            "Epoch 31/50\n",
            "36/36 [==============================] - 6s 156ms/step - loss: 0.1419 - accuracy: 0.9461 - val_loss: 1.1682 - val_accuracy: 0.7812\n",
            "Epoch 32/50\n",
            "36/36 [==============================] - 6s 155ms/step - loss: 0.1514 - accuracy: 0.9391 - val_loss: 1.2155 - val_accuracy: 0.7396\n",
            "Epoch 33/50\n",
            "36/36 [==============================] - 6s 155ms/step - loss: 0.1182 - accuracy: 0.9626 - val_loss: 1.1331 - val_accuracy: 0.8021\n",
            "Epoch 34/50\n",
            "36/36 [==============================] - 5s 150ms/step - loss: 0.1426 - accuracy: 0.9548 - val_loss: 1.3751 - val_accuracy: 0.8229\n",
            "Epoch 35/50\n",
            "36/36 [==============================] - 5s 150ms/step - loss: 0.1761 - accuracy: 0.9461 - val_loss: 1.0956 - val_accuracy: 0.8229\n",
            "Epoch 36/50\n",
            "36/36 [==============================] - 6s 155ms/step - loss: 0.1356 - accuracy: 0.9557 - val_loss: 0.9854 - val_accuracy: 0.8281\n",
            "Epoch 37/50\n",
            "36/36 [==============================] - 6s 155ms/step - loss: 0.1392 - accuracy: 0.9513 - val_loss: 1.0280 - val_accuracy: 0.8333\n",
            "Epoch 38/50\n",
            "36/36 [==============================] - 6s 155ms/step - loss: 0.2009 - accuracy: 0.9357 - val_loss: 0.6527 - val_accuracy: 0.8047\n",
            "Epoch 39/50\n",
            "36/36 [==============================] - 6s 155ms/step - loss: 0.1879 - accuracy: 0.9383 - val_loss: 1.2113 - val_accuracy: 0.7240\n",
            "Epoch 40/50\n",
            "36/36 [==============================] - 5s 150ms/step - loss: 0.0758 - accuracy: 0.9696 - val_loss: 0.9456 - val_accuracy: 0.8438\n",
            "Epoch 41/50\n",
            "36/36 [==============================] - 5s 150ms/step - loss: 0.0550 - accuracy: 0.9835 - val_loss: 1.2861 - val_accuracy: 0.8359\n",
            "Epoch 42/50\n",
            "36/36 [==============================] - 5s 151ms/step - loss: 0.1036 - accuracy: 0.9609 - val_loss: 1.7981 - val_accuracy: 0.7995\n",
            "Epoch 43/50\n",
            "36/36 [==============================] - 5s 150ms/step - loss: 0.1824 - accuracy: 0.9522 - val_loss: 1.3261 - val_accuracy: 0.8620\n",
            "Epoch 44/50\n",
            "36/36 [==============================] - 5s 150ms/step - loss: 0.1683 - accuracy: 0.9461 - val_loss: 1.3086 - val_accuracy: 0.8464\n",
            "Epoch 45/50\n",
            "36/36 [==============================] - 6s 155ms/step - loss: 0.0757 - accuracy: 0.9730 - val_loss: 1.0126 - val_accuracy: 0.8464\n",
            "Epoch 46/50\n",
            "36/36 [==============================] - 5s 150ms/step - loss: 0.0441 - accuracy: 0.9826 - val_loss: 1.5069 - val_accuracy: 0.8099\n",
            "Epoch 47/50\n",
            "36/36 [==============================] - 5s 150ms/step - loss: 0.0838 - accuracy: 0.9730 - val_loss: 3.3092 - val_accuracy: 0.7526\n",
            "Epoch 48/50\n",
            "36/36 [==============================] - 5s 150ms/step - loss: 0.1141 - accuracy: 0.9635 - val_loss: 1.4287 - val_accuracy: 0.8177\n",
            "Epoch 49/50\n",
            "36/36 [==============================] - 6s 155ms/step - loss: 0.0871 - accuracy: 0.9670 - val_loss: 1.5818 - val_accuracy: 0.8333\n",
            "Epoch 50/50\n",
            "36/36 [==============================] - 5s 151ms/step - loss: 0.0925 - accuracy: 0.9678 - val_loss: 1.5225 - val_accuracy: 0.8411\n"
          ],
          "name": "stdout"
        }
      ]
    },
    {
      "cell_type": "code",
      "metadata": {
        "colab": {
          "base_uri": "https://localhost:8080/",
          "height": 266
        },
        "id": "ZDwn9WEJNlfc",
        "outputId": "e40f8a7d-f664-4a09-e476-a9b1e5be2ee6"
      },
      "source": [
        "plt.plot(history.history['accuracy'])\n",
        "plt.plot(history.history['val_accuracy'])\n",
        "plt.legend(['epoch', 'validation'], loc = 'upper left')\n",
        "plt.show()"
      ],
      "execution_count": 10,
      "outputs": [
        {
          "output_type": "display_data",
          "data": {
            "image/png": "[encoded data removed]",
            "text/plain": [
              "<Figure size 432x288 with 1 Axes>"
            ]
          },
          "metadata": {
            "needs_background": "light"
          }
        }
      ]
    },
    {
      "cell_type": "code",
      "metadata": {
        "colab": {
          "base_uri": "https://localhost:8080/",
          "height": 279
        },
        "id": "M_iVvf8INqG0",
        "outputId": "8371369f-76d8-4d41-f158-0e1fb690e1ca"
      },
      "source": [
        "y_vloss = history.history['val_loss']\n",
        "y_loss = history.history['loss']\n",
        "\n",
        "x_len = np.arange(len(y_loss))\n",
        "\n",
        "plt.plot(x_len, y_vloss, marker='.', c='red', label='val_set_loss')\n",
        "plt.plot(x_len, y_loss, marker='.', c='blue', label='train_set_oss')\n",
        "plt.legend()\n",
        "plt.xlabel('epochs')\n",
        "plt.ylabel('loss')\n",
        "plt.grid()\n",
        "plt.show()"
      ],
      "execution_count": 11,
      "outputs": [
        {
          "output_type": "display_data",
          "data": {
            "image/png": "[encoded data removed]",
            "text/plain": [
              "<Figure size 432x288 with 1 Axes>"
            ]
          },
          "metadata": {
            "needs_background": "light"
          }
        }
      ]
    }
  ]
}