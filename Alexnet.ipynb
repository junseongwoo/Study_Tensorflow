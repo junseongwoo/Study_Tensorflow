{
  "nbformat": 4,
  "nbformat_minor": 0,
  "metadata": {
    "colab": {
      "name": "Alexnet.ipynb",
      "provenance": [],
      "collapsed_sections": [],
      "authorship_tag": "ABX9TyPq6GZQ8RRq8WP4tjpyCS8w"
    },
    "kernelspec": {
      "name": "python3",
      "display_name": "Python 3"
    },
    "language_info": {
      "name": "python"
    },
    "accelerator": "GPU"
  },
  "cells": [
    {
      "cell_type": "code",
      "metadata": {
        "id": "3QmlY0DfyC1I"
      },
      "source": [
        "import tensorflow as tf\n",
        "import matplotlib.pyplot as plt\n",
        "from tensorflow.keras.datasets import cifar10\n",
        "from tensorflow.keras.models import Sequential, Model \n",
        "from tensorflow.keras.layers import Dense, Dropout, Flatten, Input, Conv2D, MaxPool2D, BatchNormalization \n",
        "from tensorflow.keras.optimizers import Adam\n",
        "from tensorflow.keras.utils import to_categorical\n",
        "from tensorflow.keras import datasets, layers, models, losses\n",
        "import numpy as np "
      ],
      "execution_count": null,
      "outputs": []
    },
    {
      "cell_type": "code",
      "metadata": {
        "colab": {
          "base_uri": "https://localhost:8080/"
        },
        "id": "OCt7KJZRyUNr",
        "outputId": "7d8a96ec-bb36-4967-a4a6-5e6e5402af8d"
      },
      "source": [
        "(x_train, y_train), (x_test, y_test) = cifar10.load_data()"
      ],
      "execution_count": null,
      "outputs": [
        {
          "output_type": "stream",
          "text": [
            "Downloading data from https://www.cs.toronto.edu/~kriz/cifar-10-python.tar.gz\n",
            "170500096/170498071 [==============================] - 4s 0us/step\n",
            "170508288/170498071 [==============================] - 4s 0us/step\n"
          ],
          "name": "stdout"
        }
      ]
    },
    {
      "cell_type": "code",
      "metadata": {
        "id": "Z76FBaJ1yWaa"
      },
      "source": [
        "x_train = x_train.astype('float32') / 255.0 \n",
        "x_test = x_test.astype('float32') / 255.0 "
      ],
      "execution_count": null,
      "outputs": []
    },
    {
      "cell_type": "code",
      "metadata": {
        "colab": {
          "base_uri": "https://localhost:8080/"
        },
        "id": "SjaoGlK8ysrr",
        "outputId": "15e55a6b-c543-4a0e-934a-e82bcad1e348"
      },
      "source": [
        "x_train.shape, y_train.shape"
      ],
      "execution_count": null,
      "outputs": [
        {
          "output_type": "execute_result",
          "data": {
            "text/plain": [
              "((50000, 32, 32, 3), (50000, 1))"
            ]
          },
          "metadata": {
            "tags": []
          },
          "execution_count": 24
        }
      ]
    },
    {
      "cell_type": "code",
      "metadata": {
        "id": "aAW6pMwt0oSS"
      },
      "source": [
        "y_train = to_categorical(y_train, 10)\n",
        "y_test = to_categorical(y_test, 10)"
      ],
      "execution_count": null,
      "outputs": []
    },
    {
      "cell_type": "code",
      "metadata": {
        "colab": {
          "base_uri": "https://localhost:8080/"
        },
        "id": "gvzNy6bm1N-z",
        "outputId": "1d1bcbc6-afbf-405c-d1f0-f5edb856ba89"
      },
      "source": [
        "x_train.shape[1:]"
      ],
      "execution_count": null,
      "outputs": [
        {
          "output_type": "execute_result",
          "data": {
            "text/plain": [
              "(32, 32, 3)"
            ]
          },
          "metadata": {
            "tags": []
          },
          "execution_count": 31
        }
      ]
    },
    {
      "cell_type": "code",
      "metadata": {
        "id": "6W00Kg5aybuh"
      },
      "source": [
        "model = Sequential()\n",
        "model.add(layers.experimental.preprocessing.Resizing(227, 227, interpolation=\"bilinear\", input_shape=x_train.shape[1:]))\n",
        "model.add(Conv2D(96, (11,11), strides=(4,4), activation='relu', padding='same'))\n",
        "model.add(MaxPool2D((3,3), strides=2))\n",
        "model.add(BatchNormalization())\n",
        "\n",
        "model.add(Conv2D(256, (5,5), strides=1, activation='relu', padding='same'))\n",
        "model.add(MaxPool2D((2, 2), strides=2))\n",
        "model.add(BatchNormalization())\n",
        "\n",
        "model.add(Conv2D(384, (3,3), strides=1, activation='relu', padding='same'))\n",
        "model.add(Conv2D(384, (3,3), strides=1, activation='relu', padding='same'))\n",
        "model.add(Conv2D(256, (3,3), strides=1, activation='relu', padding='same'))\n",
        "model.add(MaxPool2D((3,3), strides=2))\n",
        "model.add(BatchNormalization())\n",
        "\n",
        "model.add(Flatten())\n",
        "model.add(Dense(4096, activation='relu'))\n",
        "model.add(Dropout(0.5))\n",
        "model.add(Dense(4096, activation='relu'))\n",
        "model.add(Dropout(0.5))\n",
        "model.add(Dense(10, activation='softmax'))"
      ],
      "execution_count": null,
      "outputs": []
    },
    {
      "cell_type": "code",
      "metadata": {
        "colab": {
          "base_uri": "https://localhost:8080/"
        },
        "id": "Be6M3YJ90HDT",
        "outputId": "3c4be957-f234-4125-e6eb-657c0d0dc62d"
      },
      "source": [
        "model.summary()"
      ],
      "execution_count": null,
      "outputs": [
        {
          "output_type": "stream",
          "text": [
            "Model: \"sequential_8\"\n",
            "_________________________________________________________________\n",
            "Layer (type)                 Output Shape              Param #   \n",
            "=================================================================\n",
            "resizing_8 (Resizing)        (None, 227, 227, 3)       0         \n",
            "_________________________________________________________________\n",
            "conv2d_30 (Conv2D)           (None, 57, 57, 96)        34944     \n",
            "_________________________________________________________________\n",
            "max_pooling2d_15 (MaxPooling (None, 28, 28, 96)        0         \n",
            "_________________________________________________________________\n",
            "batch_normalization_13 (Batc (None, 28, 28, 96)        384       \n",
            "_________________________________________________________________\n",
            "conv2d_31 (Conv2D)           (None, 28, 28, 256)       614656    \n",
            "_________________________________________________________________\n",
            "max_pooling2d_16 (MaxPooling (None, 14, 14, 256)       0         \n",
            "_________________________________________________________________\n",
            "batch_normalization_14 (Batc (None, 14, 14, 256)       1024      \n",
            "_________________________________________________________________\n",
            "conv2d_32 (Conv2D)           (None, 14, 14, 384)       885120    \n",
            "_________________________________________________________________\n",
            "conv2d_33 (Conv2D)           (None, 14, 14, 384)       1327488   \n",
            "_________________________________________________________________\n",
            "conv2d_34 (Conv2D)           (None, 14, 14, 256)       884992    \n",
            "_________________________________________________________________\n",
            "max_pooling2d_17 (MaxPooling (None, 6, 6, 256)         0         \n",
            "_________________________________________________________________\n",
            "batch_normalization_15 (Batc (None, 6, 6, 256)         1024      \n",
            "_________________________________________________________________\n",
            "flatten_6 (Flatten)          (None, 9216)              0         \n",
            "_________________________________________________________________\n",
            "dense_18 (Dense)             (None, 4096)              37752832  \n",
            "_________________________________________________________________\n",
            "dropout_12 (Dropout)         (None, 4096)              0         \n",
            "_________________________________________________________________\n",
            "dense_19 (Dense)             (None, 4096)              16781312  \n",
            "_________________________________________________________________\n",
            "dropout_13 (Dropout)         (None, 4096)              0         \n",
            "_________________________________________________________________\n",
            "dense_20 (Dense)             (None, 10)                40970     \n",
            "=================================================================\n",
            "Total params: 58,324,746\n",
            "Trainable params: 58,323,530\n",
            "Non-trainable params: 1,216\n",
            "_________________________________________________________________\n"
          ],
          "name": "stdout"
        }
      ]
    },
    {
      "cell_type": "code",
      "metadata": {
        "colab": {
          "base_uri": "https://localhost:8080/"
        },
        "id": "nDOv6rDIzJdh",
        "outputId": "f4aff25d-21b0-4383-921d-7517f7612702"
      },
      "source": [
        "model.compile(optimizer='adam', \n",
        "              loss=losses.categorical_crossentropy, \n",
        "              metrics=['accuracy'])\n",
        "history = model.fit(x_train, y_train, batch_size=128, epochs=50, verbose=1, validation_data=(x_test, y_test))"
      ],
      "execution_count": null,
      "outputs": [
        {
          "output_type": "stream",
          "text": [
            "Epoch 1/50\n",
            "391/391 [==============================] - 61s 146ms/step - loss: 1.8079 - accuracy: 0.4025 - val_loss: 1.5928 - val_accuracy: 0.4405\n",
            "Epoch 2/50\n",
            "391/391 [==============================] - 56s 143ms/step - loss: 1.2285 - accuracy: 0.5644 - val_loss: 1.1993 - val_accuracy: 0.5666\n",
            "Epoch 3/50\n",
            "391/391 [==============================] - 57s 145ms/step - loss: 1.0247 - accuracy: 0.6435 - val_loss: 1.3138 - val_accuracy: 0.5728\n",
            "Epoch 4/50\n",
            "391/391 [==============================] - 57s 147ms/step - loss: 0.8745 - accuracy: 0.6966 - val_loss: 2.4099 - val_accuracy: 0.2241\n",
            "Epoch 5/50\n",
            "391/391 [==============================] - 58s 147ms/step - loss: 0.7887 - accuracy: 0.7273 - val_loss: 0.9296 - val_accuracy: 0.6752\n",
            "Epoch 6/50\n",
            "391/391 [==============================] - 57s 147ms/step - loss: 0.7045 - accuracy: 0.7575 - val_loss: 1.1303 - val_accuracy: 0.6151\n",
            "Epoch 7/50\n",
            "391/391 [==============================] - 57s 147ms/step - loss: 0.6374 - accuracy: 0.7833 - val_loss: 0.9113 - val_accuracy: 0.6897\n",
            "Epoch 8/50\n",
            "391/391 [==============================] - 57s 147ms/step - loss: 0.5686 - accuracy: 0.8039 - val_loss: 0.8165 - val_accuracy: 0.7314\n",
            "Epoch 9/50\n",
            "391/391 [==============================] - 57s 147ms/step - loss: 0.4930 - accuracy: 0.8308 - val_loss: 0.7647 - val_accuracy: 0.7451\n",
            "Epoch 10/50\n",
            "391/391 [==============================] - 57s 147ms/step - loss: 0.4182 - accuracy: 0.8558 - val_loss: 0.8763 - val_accuracy: 0.7073\n",
            "Epoch 11/50\n",
            "391/391 [==============================] - 58s 147ms/step - loss: 0.4013 - accuracy: 0.8635 - val_loss: 0.7250 - val_accuracy: 0.7640\n",
            "Epoch 12/50\n",
            "391/391 [==============================] - 57s 147ms/step - loss: 0.3392 - accuracy: 0.8847 - val_loss: 1.0615 - val_accuracy: 0.6970\n",
            "Epoch 13/50\n",
            "391/391 [==============================] - 57s 147ms/step - loss: 0.3091 - accuracy: 0.8961 - val_loss: 0.6927 - val_accuracy: 0.7877\n",
            "Epoch 14/50\n",
            "391/391 [==============================] - 57s 146ms/step - loss: 0.3062 - accuracy: 0.8988 - val_loss: 1.6686 - val_accuracy: 0.4096\n",
            "Epoch 15/50\n",
            "391/391 [==============================] - 57s 146ms/step - loss: 0.3117 - accuracy: 0.8969 - val_loss: 0.7153 - val_accuracy: 0.7821\n",
            "Epoch 16/50\n",
            "391/391 [==============================] - 57s 146ms/step - loss: 0.2160 - accuracy: 0.9279 - val_loss: 0.8516 - val_accuracy: 0.7608\n",
            "Epoch 17/50\n",
            "391/391 [==============================] - 57s 147ms/step - loss: 0.2008 - accuracy: 0.9344 - val_loss: 0.8004 - val_accuracy: 0.7823\n",
            "Epoch 18/50\n",
            "391/391 [==============================] - 57s 146ms/step - loss: 0.2095 - accuracy: 0.9318 - val_loss: 0.7378 - val_accuracy: 0.7953\n",
            "Epoch 19/50\n",
            "391/391 [==============================] - 57s 146ms/step - loss: 0.1781 - accuracy: 0.9432 - val_loss: 0.7773 - val_accuracy: 0.7910\n",
            "Epoch 20/50\n",
            "391/391 [==============================] - 57s 147ms/step - loss: 0.1681 - accuracy: 0.9465 - val_loss: 0.9237 - val_accuracy: 0.7614\n",
            "Epoch 21/50\n",
            "391/391 [==============================] - 57s 146ms/step - loss: 0.1548 - accuracy: 0.9508 - val_loss: 0.8677 - val_accuracy: 0.7801\n",
            "Epoch 22/50\n",
            "391/391 [==============================] - 57s 147ms/step - loss: 0.1737 - accuracy: 0.9470 - val_loss: 0.7889 - val_accuracy: 0.7862\n",
            "Epoch 23/50\n",
            "391/391 [==============================] - 57s 147ms/step - loss: 0.1590 - accuracy: 0.9503 - val_loss: 0.9118 - val_accuracy: 0.7232\n",
            "Epoch 24/50\n",
            "391/391 [==============================] - 57s 146ms/step - loss: 0.2861 - accuracy: 0.9153 - val_loss: 0.7892 - val_accuracy: 0.7842\n",
            "Epoch 25/50\n",
            "391/391 [==============================] - 57s 146ms/step - loss: 0.1582 - accuracy: 0.9531 - val_loss: 0.8027 - val_accuracy: 0.7951\n",
            "Epoch 26/50\n",
            "391/391 [==============================] - 57s 147ms/step - loss: 0.1441 - accuracy: 0.9566 - val_loss: 0.8891 - val_accuracy: 0.7827\n",
            "Epoch 27/50\n",
            "391/391 [==============================] - 57s 146ms/step - loss: 0.1396 - accuracy: 0.9584 - val_loss: 1.0680 - val_accuracy: 0.6660\n",
            "Epoch 28/50\n",
            "391/391 [==============================] - 57s 146ms/step - loss: 0.1546 - accuracy: 0.9531 - val_loss: 0.7697 - val_accuracy: 0.8025\n",
            "Epoch 29/50\n",
            "391/391 [==============================] - 57s 146ms/step - loss: 0.1114 - accuracy: 0.9660 - val_loss: 0.7942 - val_accuracy: 0.8009\n",
            "Epoch 30/50\n",
            "391/391 [==============================] - 57s 147ms/step - loss: 0.1160 - accuracy: 0.9654 - val_loss: 0.7713 - val_accuracy: 0.7991\n",
            "Epoch 31/50\n",
            "391/391 [==============================] - 57s 147ms/step - loss: 0.1049 - accuracy: 0.9679 - val_loss: 0.8319 - val_accuracy: 0.8031\n",
            "Epoch 32/50\n",
            "391/391 [==============================] - 57s 147ms/step - loss: 0.1043 - accuracy: 0.9685 - val_loss: 0.8481 - val_accuracy: 0.7929\n",
            "Epoch 33/50\n",
            "391/391 [==============================] - 58s 147ms/step - loss: 0.1202 - accuracy: 0.9653 - val_loss: 0.8975 - val_accuracy: 0.7776\n",
            "Epoch 34/50\n",
            "391/391 [==============================] - 57s 147ms/step - loss: 0.1290 - accuracy: 0.9631 - val_loss: 0.9849 - val_accuracy: 0.7783\n",
            "Epoch 35/50\n",
            "391/391 [==============================] - 57s 147ms/step - loss: 0.1376 - accuracy: 0.9612 - val_loss: 0.8097 - val_accuracy: 0.7901\n",
            "Epoch 36/50\n",
            "391/391 [==============================] - 57s 146ms/step - loss: 0.1162 - accuracy: 0.9662 - val_loss: 0.8477 - val_accuracy: 0.8035\n",
            "Epoch 37/50\n",
            "391/391 [==============================] - 57s 146ms/step - loss: 0.0992 - accuracy: 0.9716 - val_loss: 0.9541 - val_accuracy: 0.7747\n",
            "Epoch 38/50\n",
            "391/391 [==============================] - 57s 146ms/step - loss: 0.0999 - accuracy: 0.9717 - val_loss: 0.8947 - val_accuracy: 0.7959\n",
            "Epoch 39/50\n",
            "391/391 [==============================] - 57s 146ms/step - loss: 0.1047 - accuracy: 0.9702 - val_loss: 0.8835 - val_accuracy: 0.7974\n",
            "Epoch 40/50\n",
            "391/391 [==============================] - 57s 146ms/step - loss: 0.1036 - accuracy: 0.9712 - val_loss: 0.8059 - val_accuracy: 0.8006\n",
            "Epoch 41/50\n",
            "391/391 [==============================] - 57s 146ms/step - loss: 0.0904 - accuracy: 0.9743 - val_loss: 0.9111 - val_accuracy: 0.8031\n",
            "Epoch 42/50\n",
            "391/391 [==============================] - 57s 147ms/step - loss: 0.1467 - accuracy: 0.9619 - val_loss: 0.9662 - val_accuracy: 0.7647\n",
            "Epoch 43/50\n",
            "391/391 [==============================] - 57s 147ms/step - loss: 0.1203 - accuracy: 0.9676 - val_loss: 0.8987 - val_accuracy: 0.8011\n",
            "Epoch 44/50\n",
            "391/391 [==============================] - 57s 147ms/step - loss: 0.0991 - accuracy: 0.9724 - val_loss: 0.9840 - val_accuracy: 0.7948\n",
            "Epoch 45/50\n",
            "391/391 [==============================] - 57s 146ms/step - loss: 0.0876 - accuracy: 0.9759 - val_loss: 0.9502 - val_accuracy: 0.8004\n",
            "Epoch 46/50\n",
            "391/391 [==============================] - 57s 147ms/step - loss: 0.0999 - accuracy: 0.9731 - val_loss: 0.9523 - val_accuracy: 0.8031\n",
            "Epoch 47/50\n",
            "391/391 [==============================] - 57s 147ms/step - loss: 0.1103 - accuracy: 0.9705 - val_loss: 1.1195 - val_accuracy: 0.7494\n",
            "Epoch 48/50\n",
            "391/391 [==============================] - 57s 147ms/step - loss: 0.1009 - accuracy: 0.9712 - val_loss: 0.9943 - val_accuracy: 0.8019\n",
            "Epoch 49/50\n",
            "391/391 [==============================] - 57s 147ms/step - loss: 0.0758 - accuracy: 0.9800 - val_loss: 0.8828 - val_accuracy: 0.8003\n",
            "Epoch 50/50\n",
            "391/391 [==============================] - 57s 147ms/step - loss: 0.0767 - accuracy: 0.9790 - val_loss: 1.0932 - val_accuracy: 0.8054\n"
          ],
          "name": "stdout"
        }
      ]
    },
    {
      "cell_type": "code",
      "metadata": {
        "colab": {
          "base_uri": "https://localhost:8080/"
        },
        "id": "Ziuur37yzAe6",
        "outputId": "dd2a51c8-6c7a-450c-a891-a3abc4e7926f"
      },
      "source": [
        ""
      ],
      "execution_count": null,
      "outputs": [
        {
          "output_type": "execute_result",
          "data": {
            "text/plain": [
              "(50000, 32, 32, 3)"
            ]
          },
          "metadata": {
            "tags": []
          },
          "execution_count": 13
        }
      ]
    }
  ]
}