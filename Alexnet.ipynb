{
  "nbformat": 4,
  "nbformat_minor": 0,
  "metadata": {
    "colab": {
      "name": "Alexnet.ipynb",
      "provenance": [],
      "collapsed_sections": [],
      "authorship_tag": "ABX9TyNaDuoNtTp000Q3G//ab6lg"
    },
    "kernelspec": {
      "name": "python3",
      "display_name": "Python 3"
    },
    "language_info": {
      "name": "python"
    },
    "accelerator": "GPU"
  },
  "cells": [
    {
      "cell_type": "code",
      "metadata": {
        "id": "3QmlY0DfyC1I"
      },
      "source": [
        "import tensorflow as tf\n",
        "import matplotlib.pyplot as plt\n",
        "from tensorflow.keras.datasets import cifar10\n",
        "from tensorflow.keras.models import Sequential, Model \n",
        "from tensorflow.keras.layers import Dense, Dropout, Flatten, Input, Conv2D, MaxPool2D, BatchNormalization \n",
        "from tensorflow.keras.optimizers import Adam\n",
        "from tensorflow.keras.utils import to_categorical\n",
        "from tensorflow.keras import datasets, layers, models, losses\n",
        "import numpy as np "
      ],
      "execution_count": null,
      "outputs": []
    },
    {
      "cell_type": "code",
      "metadata": {
        "colab": {
          "base_uri": "https://localhost:8080/"
        },
        "id": "OCt7KJZRyUNr",
        "outputId": "499b1179-fcaa-4f64-8ebe-5ceba1506e44"
      },
      "source": [
        "(x_train, y_train), (x_test, y_test) = cifar10.load_data()"
      ],
      "execution_count": null,
      "outputs": [
        {
          "output_type": "stream",
          "text": [
            "Downloading data from https://www.cs.toronto.edu/~kriz/cifar-10-python.tar.gz\n",
            "170500096/170498071 [==============================] - 6s 0us/step\n",
            "170508288/170498071 [==============================] - 6s 0us/step\n"
          ],
          "name": "stdout"
        }
      ]
    },
    {
      "cell_type": "code",
      "metadata": {
        "id": "AKqk3vZD3Khl"
      },
      "source": [
        "from google.colab import drive\n",
        "drive.mount('/content/drive')"
      ],
      "execution_count": null,
      "outputs": []
    },
    {
      "cell_type": "code",
      "metadata": {
        "id": "Z76FBaJ1yWaa"
      },
      "source": [
        "x_train = x_train.astype('float32') / 255.0 \n",
        "x_test = x_test.astype('float32') / 255.0 "
      ],
      "execution_count": null,
      "outputs": []
    },
    {
      "cell_type": "code",
      "metadata": {
        "colab": {
          "base_uri": "https://localhost:8080/"
        },
        "id": "SjaoGlK8ysrr",
        "outputId": "b6f5d205-b41c-4914-d26f-65220762918b"
      },
      "source": [
        "x_train.shape, y_train.shape"
      ],
      "execution_count": null,
      "outputs": [
        {
          "output_type": "execute_result",
          "data": {
            "text/plain": [
              "((50000, 32, 32, 3), (50000, 1))"
            ]
          },
          "metadata": {},
          "execution_count": 4
        }
      ]
    },
    {
      "cell_type": "code",
      "metadata": {
        "id": "aAW6pMwt0oSS"
      },
      "source": [
        "y_train = to_categorical(y_train, 10)\n",
        "y_test = to_categorical(y_test, 10)"
      ],
      "execution_count": null,
      "outputs": []
    },
    {
      "cell_type": "code",
      "metadata": {
        "colab": {
          "base_uri": "https://localhost:8080/"
        },
        "id": "gvzNy6bm1N-z",
        "outputId": "3c66f383-a432-4a40-9f0c-2c44928c97de"
      },
      "source": [
        "x_train.shape[1:]"
      ],
      "execution_count": null,
      "outputs": [
        {
          "output_type": "execute_result",
          "data": {
            "text/plain": [
              "(32, 32, 3)"
            ]
          },
          "metadata": {},
          "execution_count": 6
        }
      ]
    },
    {
      "cell_type": "code",
      "metadata": {
        "id": "6W00Kg5aybuh"
      },
      "source": [
        "model = Sequential()\n",
        "model.add(layers.experimental.preprocessing.Resizing(227, 227, interpolation=\"bilinear\", input_shape=x_train.shape[1:]))\n",
        "model.add(Conv2D(96, (11,11), strides=(4,4), activation='relu', padding='same'))\n",
        "model.add(MaxPool2D((3,3), strides=2))\n",
        "model.add(BatchNormalization())\n",
        "\n",
        "model.add(Conv2D(256, (5,5), strides=1, activation='relu', padding='same'))\n",
        "model.add(MaxPool2D((2, 2), strides=2))\n",
        "model.add(BatchNormalization())\n",
        "\n",
        "model.add(Conv2D(384, (3,3), strides=1, activation='relu', padding='same'))\n",
        "model.add(Conv2D(384, (3,3), strides=1, activation='relu', padding='same'))\n",
        "model.add(Conv2D(256, (3,3), strides=1, activation='relu', padding='same'))\n",
        "model.add(MaxPool2D((3,3), strides=2))\n",
        "model.add(BatchNormalization())\n",
        "\n",
        "model.add(Flatten())\n",
        "model.add(Dense(4096, activation='relu'))\n",
        "model.add(Dropout(0.5))\n",
        "model.add(Dense(4096, activation='relu'))\n",
        "model.add(Dropout(0.5))\n",
        "model.add(Dense(10, activation='softmax'))"
      ],
      "execution_count": null,
      "outputs": []
    },
    {
      "cell_type": "code",
      "metadata": {
        "colab": {
          "base_uri": "https://localhost:8080/"
        },
        "id": "Be6M3YJ90HDT",
        "outputId": "a1f440f1-d6cf-497b-ee66-8798692f0d4c"
      },
      "source": [
        "model.summary()"
      ],
      "execution_count": null,
      "outputs": [
        {
          "output_type": "stream",
          "text": [
            "Model: \"sequential\"\n",
            "_________________________________________________________________\n",
            "Layer (type)                 Output Shape              Param #   \n",
            "=================================================================\n",
            "resizing (Resizing)          (None, 227, 227, 3)       0         \n",
            "_________________________________________________________________\n",
            "conv2d (Conv2D)              (None, 57, 57, 96)        34944     \n",
            "_________________________________________________________________\n",
            "max_pooling2d (MaxPooling2D) (None, 28, 28, 96)        0         \n",
            "_________________________________________________________________\n",
            "batch_normalization (BatchNo (None, 28, 28, 96)        384       \n",
            "_________________________________________________________________\n",
            "conv2d_1 (Conv2D)            (None, 28, 28, 256)       614656    \n",
            "_________________________________________________________________\n",
            "max_pooling2d_1 (MaxPooling2 (None, 14, 14, 256)       0         \n",
            "_________________________________________________________________\n",
            "batch_normalization_1 (Batch (None, 14, 14, 256)       1024      \n",
            "_________________________________________________________________\n",
            "conv2d_2 (Conv2D)            (None, 14, 14, 384)       885120    \n",
            "_________________________________________________________________\n",
            "conv2d_3 (Conv2D)            (None, 14, 14, 384)       1327488   \n",
            "_________________________________________________________________\n",
            "conv2d_4 (Conv2D)            (None, 14, 14, 256)       884992    \n",
            "_________________________________________________________________\n",
            "max_pooling2d_2 (MaxPooling2 (None, 6, 6, 256)         0         \n",
            "_________________________________________________________________\n",
            "batch_normalization_2 (Batch (None, 6, 6, 256)         1024      \n",
            "_________________________________________________________________\n",
            "flatten (Flatten)            (None, 9216)              0         \n",
            "_________________________________________________________________\n",
            "dense (Dense)                (None, 4096)              37752832  \n",
            "_________________________________________________________________\n",
            "dropout (Dropout)            (None, 4096)              0         \n",
            "_________________________________________________________________\n",
            "dense_1 (Dense)              (None, 4096)              16781312  \n",
            "_________________________________________________________________\n",
            "dropout_1 (Dropout)          (None, 4096)              0         \n",
            "_________________________________________________________________\n",
            "dense_2 (Dense)              (None, 10)                40970     \n",
            "=================================================================\n",
            "Total params: 58,324,746\n",
            "Trainable params: 58,323,530\n",
            "Non-trainable params: 1,216\n",
            "_________________________________________________________________\n"
          ],
          "name": "stdout"
        }
      ]
    },
    {
      "cell_type": "code",
      "metadata": {
        "colab": {
          "base_uri": "https://localhost:8080/"
        },
        "id": "nDOv6rDIzJdh",
        "outputId": "c0a427a3-be58-480d-f4fb-1e7c780165c0"
      },
      "source": [
        "model.compile(optimizer='adam', \n",
        "              loss=losses.categorical_crossentropy, \n",
        "              metrics=['accuracy'])\n",
        "history = model.fit(x_train, y_train, batch_size=128, epochs=50, verbose=1, validation_data=(x_test, y_test))"
      ],
      "execution_count": null,
      "outputs": [
        {
          "output_type": "stream",
          "text": [
            "Epoch 1/50\n",
            "391/391 [==============================] - 155s 307ms/step - loss: 1.8050 - accuracy: 0.3926 - val_loss: 2.8858 - val_accuracy: 0.2663\n",
            "Epoch 2/50\n",
            "391/391 [==============================] - 115s 294ms/step - loss: 1.2629 - accuracy: 0.5533 - val_loss: 1.4235 - val_accuracy: 0.5093\n",
            "Epoch 3/50\n",
            "391/391 [==============================] - 115s 294ms/step - loss: 1.0539 - accuracy: 0.6348 - val_loss: 1.0069 - val_accuracy: 0.6511\n",
            "Epoch 4/50\n",
            "391/391 [==============================] - 115s 294ms/step - loss: 0.9133 - accuracy: 0.6850 - val_loss: 1.6661 - val_accuracy: 0.4328\n",
            "Epoch 5/50\n",
            "391/391 [==============================] - 115s 294ms/step - loss: 0.8144 - accuracy: 0.7214 - val_loss: 0.8697 - val_accuracy: 0.7041\n",
            "Epoch 6/50\n",
            "391/391 [==============================] - 115s 295ms/step - loss: 0.6999 - accuracy: 0.7604 - val_loss: 1.0037 - val_accuracy: 0.6494\n",
            "Epoch 7/50\n",
            "391/391 [==============================] - 115s 295ms/step - loss: 0.6536 - accuracy: 0.7761 - val_loss: 0.7447 - val_accuracy: 0.7488\n",
            "Epoch 8/50\n",
            "391/391 [==============================] - 115s 295ms/step - loss: 0.5709 - accuracy: 0.8060 - val_loss: 0.8046 - val_accuracy: 0.7356\n",
            "Epoch 9/50\n",
            "391/391 [==============================] - 115s 295ms/step - loss: 0.4988 - accuracy: 0.8308 - val_loss: 0.7132 - val_accuracy: 0.7721\n",
            "Epoch 10/50\n",
            "391/391 [==============================] - 115s 295ms/step - loss: 0.4408 - accuracy: 0.8503 - val_loss: 0.6827 - val_accuracy: 0.7763\n",
            "Epoch 11/50\n",
            "391/391 [==============================] - 115s 295ms/step - loss: 0.3981 - accuracy: 0.8660 - val_loss: 0.7975 - val_accuracy: 0.7516\n",
            "Epoch 12/50\n",
            "391/391 [==============================] - 115s 295ms/step - loss: 0.3650 - accuracy: 0.8780 - val_loss: 0.7196 - val_accuracy: 0.7724\n",
            "Epoch 13/50\n",
            "391/391 [==============================] - 115s 295ms/step - loss: 0.3288 - accuracy: 0.8907 - val_loss: 0.9291 - val_accuracy: 0.7338\n",
            "Epoch 14/50\n",
            "391/391 [==============================] - 115s 295ms/step - loss: 0.2815 - accuracy: 0.9058 - val_loss: 1.2905 - val_accuracy: 0.5514\n",
            "Epoch 15/50\n",
            "391/391 [==============================] - 115s 294ms/step - loss: 0.2592 - accuracy: 0.9144 - val_loss: 0.8649 - val_accuracy: 0.7703\n",
            "Epoch 16/50\n",
            " 93/391 [======>.......................] - ETA: 1:22 - loss: 0.1986 - accuracy: 0.9330"
          ],
          "name": "stdout"
        }
      ]
    },
    {
      "cell_type": "code",
      "metadata": {
        "id": "Ziuur37yzAe6"
      },
      "source": [
        "plt.plot(history.history['accuracy'])\n",
        "plt.plot(history.history['val_accuracy'])\n",
        "plt.legend(['epoch', 'validation'], loc = 'upper left')\n",
        "plt.show()"
      ],
      "execution_count": null,
      "outputs": []
    },
    {
      "cell_type": "code",
      "metadata": {
        "id": "bjoMBdRlUQpo"
      },
      "source": [
        "score = model.evaluate(x_test, y_test, verbose=1)\n",
        "print('Test loss:', score[0])\n",
        "print('Test accuracy:', score[1])\n",
        "predictions = model.predict(x_test, verbose=1)"
      ],
      "execution_count": null,
      "outputs": []
    },
    {
      "cell_type": "code",
      "metadata": {
        "id": "CPMwOOew3wA4"
      },
      "source": [
        "def load_label_names():\n",
        "    return ['airplane', 'automobile', 'bird', 'cat', 'deer', 'dog', 'frog', 'horse', 'ship', 'truck']\n",
        "\n",
        "def display_image_predictions(features, labels, predictions):\n",
        "    n_classes = 10\n",
        "    label_names = load_label_names()\n",
        "    label_binarizer = LabelBinarizer()\n",
        "    label_binarizer.fit(range(n_classes))\n",
        "    label_ids = label_binarizer.inverse_transform(np.array(labels))\n",
        "\n",
        "    fig, axs = plt.subplots(10, 2, figsize=(12,24))\n",
        "    margin = 0.05\n",
        "    ind = np.arange(n_classes)\n",
        "    width = (1. - 2. * margin) / n_classes    \n",
        "    arr_features = [None]*10\n",
        "    arr_predictions = np.zeros((10, 10))\n",
        "    last_image_i = 0\n",
        "    \n",
        "    for i, prediction in enumerate(predictions):\n",
        "        label_id = label_ids[i]\n",
        "        feature = features[i]\n",
        "        arr_features[label_id] = feature\n",
        "        max_id = np.argmax(prediction)\n",
        "        arr_predictions[label_id][max_id] += 1\n",
        "        last_image_i = i\n",
        "\n",
        "    arr_predictions /= last_image_i\n",
        "    \n",
        "    for i in range(10):\n",
        "      feature = arr_features[i]\n",
        "      pred_name = label_names[i]\n",
        "      prediction = arr_predictions[i]\n",
        "      axs[i][0].imshow(feature)\n",
        "      axs[i][0].set_title(pred_name)\n",
        "      axs[i][0].set_axis_off()\n",
        "\n",
        "      axs[i][1].barh(ind + margin, prediction, width)\n",
        "      axs[i][1].set_yticks(ind + margin)\n",
        "      axs[i][1].set_yticklabels(label_names)\n",
        "\n",
        "    plt.tight_layout()"
      ],
      "execution_count": null,
      "outputs": []
    }
  ]
}