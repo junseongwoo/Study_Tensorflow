{
 "cells": [
  {
   "cell_type": "code",
   "execution_count": null,
   "source": [
    "# GAN \r\n",
    "# - VAE와는 다른 방법으로 이미지 잠재 공간을 학습\r\n",
    "\r\n",
    "# GAN 네트워크 \r\n",
    "# - generator network \r\n",
    "#   - 랜덤 벡터 (잠재 공간의 무작위한 포인트)를 입력으로 받아 이를 합성된 이미지로 디코딩 \r\n",
    "\r\n",
    "# - discriminator network \r\n",
    "#   - 이미지(실제 또는 가짜 이미지)를 입력으로 받아 훈련 세트에서 온 이미지인지 생성자가 만든 이미지인지 판별 \r\n",
    "\r\n",
    "# GAN은 최적화의 최솟값이 고정되어 있지 않다\r\n",
    "# - 보통의 gradient 하강법은 고정된 손실공간에서 언덕을 내려오는 훈련 방법 \r\n",
    "# - GAN은 매 단계가 조금씩 전체 공간을 바꾸기 때문에 최적화 과정이 최솟값을 찾는 것이 어렵다.\r\n",
    "# - 두 힘간의 평형점을 찾는 시스템 \r\n",
    "# - 따라서 학습 과정이 매우 어려움 -> 적절한 파라미터를 찾고 조정해야함 "
   ],
   "outputs": [],
   "metadata": {}
  },
  {
   "cell_type": "code",
   "execution_count": null,
   "source": [
    "# GAN 구현 : DCGAN \r\n",
    "# CIFAR10 데이터셋 사용\r\n",
    "\r\n",
    "# G는 (latent_dim,) 크기의 벡터를 (32, 32, 3) 크기의 이미지로 매핑 \r\n",
    "# D는 (32, 32, 3) 크기의 이미지가 진짜일 확률을 추정하여 이진값(진짜, 가짜)으로 매핑\r\n",
    "\r\n",
    "# G와 D를 연결하는 GAN 네트워크 만듬 \r\n",
    "# gan(x) = discriminator(generator(x))\r\n",
    "\r\n",
    "# 진짜/가짜 레이블과 함께 진짜 이미지와 가짜 이미지 샘플을 사용하여 판별자를 훈련 (일반적인 이미지 분류 모델 훈련과 동일)\r\n",
    "# -> 이미지 분류에서 어떤 레이블인지 분류하는 것 \r\n",
    "# -> D가 진짜/가짜를 분별하기 때문에 비슷하다고 보는 것 \r\n",
    "\r\n",
    "# G를 훈련하려면 GAN 모델의 손실에 대한 생성자 가중치의 grad를 사용 \r\n",
    "# - 매 단게마다 G에 의해 디코딩된 이미지를 판별자가 \"진짜\"로 분류하도록 만다는 방향으로 생성자의 가중치를 이동 \r\n",
    "# - 판별자를 속이도록 생성자를 훈련한다는 말 "
   ],
   "outputs": [],
   "metadata": {}
  }
 ],
 "metadata": {
  "orig_nbformat": 4,
  "language_info": {
   "name": "python"
  }
 },
 "nbformat": 4,
 "nbformat_minor": 2
}