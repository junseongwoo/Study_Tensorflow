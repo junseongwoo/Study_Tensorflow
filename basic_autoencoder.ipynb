{
 "cells": [
  {
   "cell_type": "code",
   "execution_count": null,
   "source": [
    "# 인코딩과 디코딩 \r\n",
    "\r\n",
    "# 인코더는 입력 x 를 잠재 공간 (latent space), 즉 인코더에 의해 정의된 숨겨진 구조화된 값 집합에 매핑하는 함수\r\n",
    "# 디코더는 latent space 요소를 사전 정의된 타겟 도메인으로 매핑하는 함수  \r\n",
    "\r\n",
    "### 오토인코더 \r\n",
    "# 입력을 저차원 latent space로 인코딩 한 후 디코딩하여 복원하는 네트워크 \r\n",
    "# 이미지를 입력받아 인코더 모듈을 사용하여 latent vector space 로 매핑하고\r\n",
    "# 디코더 모듈을 사용하여 원본 이미지와 동일한 차원으로 복원하여 출력\r\n",
    "\r\n",
    "# 원본 입력을 재구성하는 방법으로 학습"
   ],
   "outputs": [],
   "metadata": {}
  },
  {
   "cell_type": "code",
   "execution_count": 2,
   "source": [
    "# Dataset \r\n",
    "\r\n",
    "import tensorflow as tf \r\n",
    "from tensorflow.keras.datasets import fashion_mnist \r\n",
    "from tensorflow.keras.models import Model\r\n",
    "from tensorflow.keras.layers import Dense, Flatten, Reshape\r\n",
    "from tensorflow.keras.losses import MeanSquaredError \r\n",
    "\r\n",
    "import numpy as np \r\n",
    "import matplotlib.pyplot as plt \r\n",
    "plt.style.use('seaborn-white')"
   ],
   "outputs": [
    {
     "output_type": "error",
     "ename": "ModuleNotFoundError",
     "evalue": "No module named 'tensorflow'",
     "traceback": [
      "\u001b[1;31m---------------------------------------------------------------------------\u001b[0m",
      "\u001b[1;31mModuleNotFoundError\u001b[0m                       Traceback (most recent call last)",
      "\u001b[1;32m~\\AppData\\Local\\Temp/ipykernel_8160/1460663766.py\u001b[0m in \u001b[0;36m<module>\u001b[1;34m\u001b[0m\n\u001b[0;32m      1\u001b[0m \u001b[1;31m# Dataset\u001b[0m\u001b[1;33m\u001b[0m\u001b[1;33m\u001b[0m\u001b[1;33m\u001b[0m\u001b[0m\n\u001b[0;32m      2\u001b[0m \u001b[1;33m\u001b[0m\u001b[0m\n\u001b[1;32m----> 3\u001b[1;33m \u001b[1;32mimport\u001b[0m \u001b[0mtensorflow\u001b[0m \u001b[1;32mas\u001b[0m \u001b[0mtf\u001b[0m\u001b[1;33m\u001b[0m\u001b[1;33m\u001b[0m\u001b[0m\n\u001b[0m\u001b[0;32m      4\u001b[0m \u001b[1;32mfrom\u001b[0m \u001b[0mtensorflow\u001b[0m\u001b[1;33m.\u001b[0m\u001b[0mkeras\u001b[0m\u001b[1;33m.\u001b[0m\u001b[0mdatasets\u001b[0m \u001b[1;32mimport\u001b[0m \u001b[0mfashion_mnist\u001b[0m\u001b[1;33m\u001b[0m\u001b[1;33m\u001b[0m\u001b[0m\n\u001b[0;32m      5\u001b[0m \u001b[1;32mfrom\u001b[0m \u001b[0mtensorflow\u001b[0m\u001b[1;33m.\u001b[0m\u001b[0mkeras\u001b[0m\u001b[1;33m.\u001b[0m\u001b[0mmodels\u001b[0m \u001b[1;32mimport\u001b[0m \u001b[0mModel\u001b[0m\u001b[1;33m\u001b[0m\u001b[1;33m\u001b[0m\u001b[0m\n",
      "\u001b[1;31mModuleNotFoundError\u001b[0m: No module named 'tensorflow'"
     ]
    }
   ],
   "metadata": {}
  },
  {
   "cell_type": "code",
   "execution_count": 5,
   "source": [
    "# data load \r\n",
    "# 오토인코더이기 때문에 x 만 필요하다 \r\n",
    "# 왜냐하면 오토인코더는 x를 압축해서 다시 x를 만들기 때문\r\n",
    "(x_train, _), (x_test, _) = fashion_mnist.load_data()"
   ],
   "outputs": [],
   "metadata": {}
  },
  {
   "cell_type": "code",
   "execution_count": 6,
   "source": [
    "# normalization \r\n",
    "\r\n",
    "x_train = x_train.astype('float32') / 255.\r\n",
    "x_test = x_test.astype('float32') / 255.\r\n",
    "\r\n",
    "print(x_train.shape)\r\n",
    "print(x_test.shape)"
   ],
   "outputs": [
    {
     "output_type": "stream",
     "name": "stdout",
     "text": [
      "(60000, 28, 28)\n",
      "(10000, 28, 28)\n"
     ]
    }
   ],
   "metadata": {}
  },
  {
   "cell_type": "code",
   "execution_count": 7,
   "source": [
    "# 모델 정의\r\n",
    "# 이미지를 64차원 latent space로 압축하는 인코더 \r\n",
    "# latent space에서 원본 이미지를 재구성 하는 디코더 \r\n",
    "\r\n",
    "latent_dim = 64 \r\n",
    "\r\n",
    "class Autoencoder(Model):\r\n",
    "    def __init__(self, latent_dim):\r\n",
    "        super(Autoencoder, self).__init__()\r\n",
    "\r\n",
    "        self.latent_dim = latent_dim \r\n",
    "\r\n",
    "        self.encoder = tf.keras.Sequential([Flatten(), Dense(latent_dim, activation='relu')])\r\n",
    "\r\n",
    "        self.decoder = tf.keras.Sequential([Dense(784, activation='sigmoid'), Reshape((28, 28))])\r\n",
    "\r\n",
    "    def call(self, x):\r\n",
    "        encoded = self.encoder(x)\r\n",
    "        decoded = self.decoder(encoded)\r\n",
    "        return decoded"
   ],
   "outputs": [],
   "metadata": {}
  },
  {
   "cell_type": "code",
   "execution_count": null,
   "source": [
    "# 모델 생성 및 컴파일 \r\n",
    "\r\n",
    "autoencoder = Autoencoder(latent_dim)\r\n",
    "autoencoder.compile(optimizer='adam',)"
   ],
   "outputs": [],
   "metadata": {}
  }
 ],
 "metadata": {
  "orig_nbformat": 4,
  "language_info": {
   "name": "python",
   "version": "3.9.5",
   "mimetype": "text/x-python",
   "codemirror_mode": {
    "name": "ipython",
    "version": 3
   },
   "pygments_lexer": "ipython3",
   "nbconvert_exporter": "python",
   "file_extension": ".py"
  },
  "kernelspec": {
   "name": "python3",
   "display_name": "Python 3.9.5 64-bit ('venv': venv)"
  },
  "interpreter": {
   "hash": "435270bc5a3b870905c7ef14bb2720fe08016f2edda3592f8db08912adcdbd9f"
  }
 },
 "nbformat": 4,
 "nbformat_minor": 2
}