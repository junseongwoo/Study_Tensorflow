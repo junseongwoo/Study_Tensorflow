{
 "cells": [
  {
   "cell_type": "code",
   "execution_count": null,
   "source": [
    "import tensorflow as tf \r\n",
    "from tensorflow.keras.datasets import fashion_mnist \r\n",
    "from tensorflow.keras.models import Model\r\n",
    "from tensorflow.keras.layers import Dense, Flatten, Reshape\r\n",
    "from tensorflow.keras.losses import MeanSquaredError \r\n",
    "\r\n",
    "import numpy as np \r\n",
    "import matplotlib.pyplot as plt \r\n",
    "plt.style.use('seaborn-white')"
   ],
   "outputs": [],
   "metadata": {}
  }
 ],
 "metadata": {
  "orig_nbformat": 4,
  "language_info": {
   "name": "python"
  }
 },
 "nbformat": 4,
 "nbformat_minor": 2
}